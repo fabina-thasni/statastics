{
 "cells": [
  {
   "cell_type": "markdown",
   "id": "c95f044c-a7d7-4cd5-a823-46d7c9db9edc",
   "metadata": {},
   "source": [
    "# ANOVA "
   ]
  },
  {
   "cell_type": "code",
   "execution_count": 2,
   "id": "17a1a26e-51f3-4414-876c-6140882494ff",
   "metadata": {},
   "outputs": [
    {
     "name": "stdout",
     "output_type": "stream",
     "text": [
      "F-statistic: 1.3696145124716554\n",
      "P-value: 0.29123185283873065\n",
      "F-critical value (α = 0.05): 3.8852938346523933\n",
      "Fail to reject the null hypothesis: No significant difference among group means.\n"
     ]
    }
   ],
   "source": [
    "import numpy as np\n",
    "from scipy.stats import f_oneway, f\n",
    "\n",
    "\n",
    "group1 = [24, 30, 28, 35, 40]\n",
    "group2 = [22, 27, 25, 30, 35]\n",
    "group3 = [20, 25, 23, 28, 33]\n",
    "\n",
    "f_statistic, p_value = f_oneway(group1, group2, group3)\n",
    "\n",
    "k = 3 \n",
    "n = len(group1) + len(group2) + len(group3) \n",
    "\n",
    "df_between = k - 1\n",
    "df_within = n - k\n",
    "\n",
    "alpha = 0.05\n",
    "alpha = 0.05\n",
    "f_critical = f.ppf(1 - alpha, df_between, df_within)\n",
    "\n",
    "print(f\"F-statistic: {f_statistic}\")\n",
    "print(f\"P-value: {p_value}\")\n",
    "print(f\"F-critical value (α = 0.05): {f_critical}\")\n",
    "\n",
    "if f_statistic > f_critical:\n",
    "    print(\"Reject the null hypothesis: At least one group mean is significantly different.\")\n",
    "else:\n",
    "    print(\"Fail to reject the null hypothesis: No significant difference among group means.\")"
   ]
  },
  {
   "cell_type": "code",
   "execution_count": null,
   "id": "9562978b-8218-42db-9b60-c103528e5087",
   "metadata": {},
   "outputs": [],
   "source": []
  }
 ],
 "metadata": {
  "kernelspec": {
   "display_name": "Python 3 (ipykernel)",
   "language": "python",
   "name": "python3"
  },
  "language_info": {
   "codemirror_mode": {
    "name": "ipython",
    "version": 3
   },
   "file_extension": ".py",
   "mimetype": "text/x-python",
   "name": "python",
   "nbconvert_exporter": "python",
   "pygments_lexer": "ipython3",
   "version": "3.12.4"
  }
 },
 "nbformat": 4,
 "nbformat_minor": 5
}
