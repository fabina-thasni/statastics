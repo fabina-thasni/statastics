{
 "cells": [
  {
   "cell_type": "markdown",
   "id": "8afea25b-f3f4-4e58-8b3d-3df0ffcbc8eb",
   "metadata": {},
   "source": [
    "# Correlation"
   ]
  },
  {
   "cell_type": "code",
   "execution_count": 1,
   "id": "8ef49937-66a3-428f-b806-51fbd3fb33cf",
   "metadata": {},
   "outputs": [
    {
     "name": "stdout",
     "output_type": "stream",
     "text": [
      "0.9912407071619304\n"
     ]
    }
   ],
   "source": [
    "import pandas as pd\n",
    "\n",
    "# Sample data\n",
    "data = {'study_hours': [1, 2, 3, 4, 5],\n",
    "        'test_scores': [50, 55, 65, 70, 75]}\n",
    "\n",
    "df = pd.DataFrame(data)\n",
    "\n",
    "# Correlation\n",
    "correlation = df['study_hours'].corr(df['test_scores'])\n",
    "print(correlation)\n"
   ]
  },
  {
   "cell_type": "markdown",
   "id": "3002e465-0796-48c4-8370-66032148a242",
   "metadata": {},
   "source": [
    "# Covariance"
   ]
  },
  {
   "cell_type": "markdown",
   "id": "b85e5808-7df7-447a-8a4c-2c6e4102ea8e",
   "metadata": {},
   "source": [
    "### Let's say we have two variables: Study Hours and Test Scores.\n"
   ]
  },
  {
   "cell_type": "code",
   "execution_count": 2,
   "id": "75656565-a618-48a2-a2d7-fc03a3e024db",
   "metadata": {},
   "outputs": [],
   "source": [
    "import pandas as pd\n",
    "import numpy as np\n",
    "\n",
    "# Sample data\n",
    "data = {'study_hours': [1, 2, 3, 4, 5],\n",
    "        'test_scores': [50, 55, 65, 70, 75]}\n",
    "\n",
    "df = pd.DataFrame(data)\n"
   ]
  },
  {
   "cell_type": "code",
   "execution_count": 3,
   "id": "f0a29f57-b60e-4aa9-9fdf-8334b005f051",
   "metadata": {},
   "outputs": [
    {
     "data": {
      "text/html": [
       "<div>\n",
       "<style scoped>\n",
       "    .dataframe tbody tr th:only-of-type {\n",
       "        vertical-align: middle;\n",
       "    }\n",
       "\n",
       "    .dataframe tbody tr th {\n",
       "        vertical-align: top;\n",
       "    }\n",
       "\n",
       "    .dataframe thead th {\n",
       "        text-align: right;\n",
       "    }\n",
       "</style>\n",
       "<table border=\"1\" class=\"dataframe\">\n",
       "  <thead>\n",
       "    <tr style=\"text-align: right;\">\n",
       "      <th></th>\n",
       "      <th>study_hours</th>\n",
       "      <th>test_scores</th>\n",
       "    </tr>\n",
       "  </thead>\n",
       "  <tbody>\n",
       "    <tr>\n",
       "      <th>0</th>\n",
       "      <td>1</td>\n",
       "      <td>50</td>\n",
       "    </tr>\n",
       "    <tr>\n",
       "      <th>1</th>\n",
       "      <td>2</td>\n",
       "      <td>55</td>\n",
       "    </tr>\n",
       "    <tr>\n",
       "      <th>2</th>\n",
       "      <td>3</td>\n",
       "      <td>65</td>\n",
       "    </tr>\n",
       "    <tr>\n",
       "      <th>3</th>\n",
       "      <td>4</td>\n",
       "      <td>70</td>\n",
       "    </tr>\n",
       "    <tr>\n",
       "      <th>4</th>\n",
       "      <td>5</td>\n",
       "      <td>75</td>\n",
       "    </tr>\n",
       "  </tbody>\n",
       "</table>\n",
       "</div>"
      ],
      "text/plain": [
       "   study_hours  test_scores\n",
       "0            1           50\n",
       "1            2           55\n",
       "2            3           65\n",
       "3            4           70\n",
       "4            5           75"
      ]
     },
     "execution_count": 3,
     "metadata": {},
     "output_type": "execute_result"
    }
   ],
   "source": [
    "df"
   ]
  },
  {
   "cell_type": "markdown",
   "id": "30711552-58b2-4455-8c2e-3385278aeba6",
   "metadata": {},
   "source": [
    "## ✅ Method 1: Manual Covariance Calculation"
   ]
  },
  {
   "cell_type": "code",
   "execution_count": 5,
   "id": "c8b0ca66-bdca-43d6-807d-02daf8eb976d",
   "metadata": {},
   "outputs": [
    {
     "name": "stdout",
     "output_type": "stream",
     "text": [
      "Covariance (manual): 16.25\n"
     ]
    }
   ],
   "source": [
    "# Get means\n",
    "mean_x = df['study_hours'].mean()\n",
    "mean_y = df['test_scores'].mean()\n",
    "\n",
    "# Calculate covariance\n",
    "cov = sum((df['study_hours'] - mean_x) * (df['test_scores'] - mean_y)) / (len(df) - 1)\n",
    "print(\"Covariance (manual):\", cov)\n"
   ]
  },
  {
   "cell_type": "markdown",
   "id": "751bb459-f0b9-4507-aeb0-1335f7ef4f05",
   "metadata": {},
   "source": [
    "## ✅ Method 2: Using NumPy"
   ]
  },
  {
   "cell_type": "code",
   "execution_count": 6,
   "id": "7ef95a01-c6d4-4dc5-9cac-e5bb1f7fdfe3",
   "metadata": {},
   "outputs": [
    {
     "name": "stdout",
     "output_type": "stream",
     "text": [
      "Covariance matrix:\n",
      " [[  2.5   16.25]\n",
      " [ 16.25 107.5 ]]\n",
      "Covariance (NumPy): 16.25\n"
     ]
    }
   ],
   "source": [
    "cov_matrix = np.cov(df['study_hours'], df['test_scores'])\n",
    "print(\"Covariance matrix:\\n\", cov_matrix)\n",
    "print(\"Covariance (NumPy):\", cov_matrix[0, 1])  # Covariance between the two variables\n"
   ]
  },
  {
   "cell_type": "code",
   "execution_count": null,
   "id": "1a9ce2f9-a365-4533-9ab6-5756c10891e9",
   "metadata": {},
   "outputs": [],
   "source": []
  }
 ],
 "metadata": {
  "kernelspec": {
   "display_name": "Python 3 (ipykernel)",
   "language": "python",
   "name": "python3"
  },
  "language_info": {
   "codemirror_mode": {
    "name": "ipython",
    "version": 3
   },
   "file_extension": ".py",
   "mimetype": "text/x-python",
   "name": "python",
   "nbconvert_exporter": "python",
   "pygments_lexer": "ipython3",
   "version": "3.12.4"
  }
 },
 "nbformat": 4,
 "nbformat_minor": 5
}
