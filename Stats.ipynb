{
 "cells": [
  {
   "cell_type": "code",
   "execution_count": 1,
   "id": "d62b1cbb-ad4d-4d85-9229-8f3ba995a735",
   "metadata": {},
   "outputs": [],
   "source": [
    "import pandas as pd\n",
    "import numpy as np\n",
    "from math import sqrt"
   ]
  },
  {
   "cell_type": "code",
   "execution_count": 8,
   "id": "522f483f-4dc9-444b-8fca-2bd209f81961",
   "metadata": {},
   "outputs": [],
   "source": [
    "list1=[1,2,3,4]"
   ]
  },
  {
   "cell_type": "code",
   "execution_count": 3,
   "id": "d23c37a2-ba75-4206-aa2a-eb0b4b6035d1",
   "metadata": {},
   "outputs": [
    {
     "ename": "AttributeError",
     "evalue": "'list' object has no attribute 'mean'",
     "output_type": "error",
     "traceback": [
      "\u001b[1;31m---------------------------------------------------------------------------\u001b[0m",
      "\u001b[1;31mAttributeError\u001b[0m                            Traceback (most recent call last)",
      "Cell \u001b[1;32mIn[3], line 1\u001b[0m\n\u001b[1;32m----> 1\u001b[0m list1\u001b[38;5;241m.\u001b[39mmean()\n",
      "\u001b[1;31mAttributeError\u001b[0m: 'list' object has no attribute 'mean'"
     ]
    }
   ],
   "source": [
    "list1.mean()"
   ]
  },
  {
   "cell_type": "code",
   "execution_count": 3,
   "id": "89e05453-9c5f-4111-8e1f-e2cb1575fefe",
   "metadata": {},
   "outputs": [
    {
     "data": {
      "text/plain": [
       "10"
      ]
     },
     "execution_count": 3,
     "metadata": {},
     "output_type": "execute_result"
    }
   ],
   "source": [
    "1+2+3+4"
   ]
  },
  {
   "cell_type": "code",
   "execution_count": 4,
   "id": "636919c9-563c-4fcb-848c-7c71d71baba4",
   "metadata": {},
   "outputs": [
    {
     "data": {
      "text/plain": [
       "2.5"
      ]
     },
     "execution_count": 4,
     "metadata": {},
     "output_type": "execute_result"
    }
   ],
   "source": [
    "10/4"
   ]
  },
  {
   "cell_type": "code",
   "execution_count": 5,
   "id": "35f1da93-96ad-47ad-9c33-cfb149693ad1",
   "metadata": {},
   "outputs": [
    {
     "data": {
      "text/plain": [
       "1.25"
      ]
     },
     "execution_count": 5,
     "metadata": {},
     "output_type": "execute_result"
    }
   ],
   "source": [
    "1/4*(5)\n"
   ]
  },
  {
   "cell_type": "code",
   "execution_count": 6,
   "id": "ff178795-a47e-4f70-8621-729838039838",
   "metadata": {},
   "outputs": [
    {
     "data": {
      "text/plain": [
       "1.25"
      ]
     },
     "execution_count": 6,
     "metadata": {},
     "output_type": "execute_result"
    }
   ],
   "source": [
    "1+(.25*(2-1))"
   ]
  },
  {
   "cell_type": "code",
   "execution_count": 13,
   "id": "edebd893-2eeb-482e-aaf8-8f873fc6f528",
   "metadata": {},
   "outputs": [
    {
     "data": {
      "text/plain": [
       "1.75"
      ]
     },
     "execution_count": 13,
     "metadata": {},
     "output_type": "execute_result"
    }
   ],
   "source": [
    "np.quantile(list1,0.25,interpolation=\"linear\")"
   ]
  },
  {
   "cell_type": "code",
   "execution_count": 8,
   "id": "dae3743c-0a6a-4b2c-9e88-930634ec0b20",
   "metadata": {},
   "outputs": [],
   "source": [
    "list=[10,11,12,13,14,15,np.nan]"
   ]
  },
  {
   "cell_type": "code",
   "execution_count": 9,
   "id": "ab530fa6-2573-4cef-9469-76e6098881ae",
   "metadata": {},
   "outputs": [
    {
     "data": {
      "text/plain": [
       "nan"
      ]
     },
     "execution_count": 9,
     "metadata": {},
     "output_type": "execute_result"
    }
   ],
   "source": [
    "np.median(list)"
   ]
  },
  {
   "cell_type": "markdown",
   "id": "5995d636-2a5a-43a0-895f-76031e8c7461",
   "metadata": {},
   "source": [
    "name , income, industry"
   ]
  },
  {
   "cell_type": "code",
   "execution_count": 10,
   "id": "d7fb7cf0-c15e-4666-95bc-8311a3e9ad0f",
   "metadata": {},
   "outputs": [],
   "source": [
    "df=pd.DataFrame({\"data\":list})"
   ]
  },
  {
   "cell_type": "code",
   "execution_count": 11,
   "id": "5d85677d-35e3-4f27-ac8c-fffd40ea7742",
   "metadata": {},
   "outputs": [
    {
     "data": {
      "text/html": [
       "<div>\n",
       "<style scoped>\n",
       "    .dataframe tbody tr th:only-of-type {\n",
       "        vertical-align: middle;\n",
       "    }\n",
       "\n",
       "    .dataframe tbody tr th {\n",
       "        vertical-align: top;\n",
       "    }\n",
       "\n",
       "    .dataframe thead th {\n",
       "        text-align: right;\n",
       "    }\n",
       "</style>\n",
       "<table border=\"1\" class=\"dataframe\">\n",
       "  <thead>\n",
       "    <tr style=\"text-align: right;\">\n",
       "      <th></th>\n",
       "      <th>data</th>\n",
       "    </tr>\n",
       "  </thead>\n",
       "  <tbody>\n",
       "    <tr>\n",
       "      <th>0</th>\n",
       "      <td>10.0</td>\n",
       "    </tr>\n",
       "    <tr>\n",
       "      <th>1</th>\n",
       "      <td>11.0</td>\n",
       "    </tr>\n",
       "    <tr>\n",
       "      <th>2</th>\n",
       "      <td>12.0</td>\n",
       "    </tr>\n",
       "    <tr>\n",
       "      <th>3</th>\n",
       "      <td>13.0</td>\n",
       "    </tr>\n",
       "    <tr>\n",
       "      <th>4</th>\n",
       "      <td>14.0</td>\n",
       "    </tr>\n",
       "    <tr>\n",
       "      <th>5</th>\n",
       "      <td>15.0</td>\n",
       "    </tr>\n",
       "    <tr>\n",
       "      <th>6</th>\n",
       "      <td>NaN</td>\n",
       "    </tr>\n",
       "  </tbody>\n",
       "</table>\n",
       "</div>"
      ],
      "text/plain": [
       "   data\n",
       "0  10.0\n",
       "1  11.0\n",
       "2  12.0\n",
       "3  13.0\n",
       "4  14.0\n",
       "5  15.0\n",
       "6   NaN"
      ]
     },
     "execution_count": 11,
     "metadata": {},
     "output_type": "execute_result"
    }
   ],
   "source": [
    "df"
   ]
  },
  {
   "cell_type": "code",
   "execution_count": 12,
   "id": "6ab7d31f-62ad-4a7a-bfa8-45cc4037a67d",
   "metadata": {},
   "outputs": [
    {
     "data": {
      "text/html": [
       "<div>\n",
       "<style scoped>\n",
       "    .dataframe tbody tr th:only-of-type {\n",
       "        vertical-align: middle;\n",
       "    }\n",
       "\n",
       "    .dataframe tbody tr th {\n",
       "        vertical-align: top;\n",
       "    }\n",
       "\n",
       "    .dataframe thead th {\n",
       "        text-align: right;\n",
       "    }\n",
       "</style>\n",
       "<table border=\"1\" class=\"dataframe\">\n",
       "  <thead>\n",
       "    <tr style=\"text-align: right;\">\n",
       "      <th></th>\n",
       "      <th>data</th>\n",
       "    </tr>\n",
       "  </thead>\n",
       "  <tbody>\n",
       "    <tr>\n",
       "      <th>0</th>\n",
       "      <td>10.0</td>\n",
       "    </tr>\n",
       "    <tr>\n",
       "      <th>1</th>\n",
       "      <td>11.0</td>\n",
       "    </tr>\n",
       "    <tr>\n",
       "      <th>2</th>\n",
       "      <td>12.0</td>\n",
       "    </tr>\n",
       "    <tr>\n",
       "      <th>3</th>\n",
       "      <td>13.0</td>\n",
       "    </tr>\n",
       "    <tr>\n",
       "      <th>4</th>\n",
       "      <td>14.0</td>\n",
       "    </tr>\n",
       "    <tr>\n",
       "      <th>5</th>\n",
       "      <td>15.0</td>\n",
       "    </tr>\n",
       "    <tr>\n",
       "      <th>6</th>\n",
       "      <td>12.5</td>\n",
       "    </tr>\n",
       "  </tbody>\n",
       "</table>\n",
       "</div>"
      ],
      "text/plain": [
       "   data\n",
       "0  10.0\n",
       "1  11.0\n",
       "2  12.0\n",
       "3  13.0\n",
       "4  14.0\n",
       "5  15.0\n",
       "6  12.5"
      ]
     },
     "execution_count": 12,
     "metadata": {},
     "output_type": "execute_result"
    }
   ],
   "source": [
    "df.fillna(df.median())"
   ]
  },
  {
   "cell_type": "markdown",
   "id": "95bbfcdc-e801-474e-959b-d2b1e4a2cad3",
   "metadata": {},
   "source": [
    "# Descriptive Statistics"
   ]
  },
  {
   "cell_type": "code",
   "execution_count": null,
   "id": "cab218a8-e871-4d24-beea-8bf72a77ace4",
   "metadata": {},
   "outputs": [],
   "source": [
    "df=pd.read_csv(r\"C:\\Users\\User\\Desktop\\Data\\dataset\\housing.csv\",encoding=\"utf-8\")"
   ]
  },
  {
   "cell_type": "code",
   "execution_count": null,
   "id": "be4b63c8-985a-4cfd-88e6-b0f87a5a532e",
   "metadata": {},
   "outputs": [],
   "source": [
    "df"
   ]
  },
  {
   "cell_type": "markdown",
   "id": "ca09eda4-5b2f-4413-adb8-951415f35085",
   "metadata": {},
   "source": [
    "## IQR"
   ]
  },
  {
   "cell_type": "code",
   "execution_count": 1,
   "id": "33e69a52-7610-43ad-8ee8-7292cbec0cfc",
   "metadata": {},
   "outputs": [
    {
     "data": {
      "text/plain": [
       "2.4000000000000004"
      ]
     },
     "execution_count": 1,
     "metadata": {},
     "output_type": "execute_result"
    }
   ],
   "source": [
    ".4*6"
   ]
  },
  {
   "cell_type": "markdown",
   "id": "b1f139d3-46b0-4484-b466-9561595ff3fa",
   "metadata": {},
   "source": [
    "## Quantile"
   ]
  },
  {
   "cell_type": "markdown",
   "id": "bc1d4687-98bb-4a06-adf1-ed67e49fe2e2",
   "metadata": {},
   "source": [
    "- A Quantile divides a dataset into equal-sized intervals a groups\n",
    "- Quartile\n",
    "- Decile"
   ]
  },
  {
   "cell_type": "markdown",
   "id": "700bc975-efa1-4dfe-9a87-b63b8abfeda8",
   "metadata": {},
   "source": [
    "- Q1=1/4*(n+1)\n",
    "- Q2=2/4*(n+1)"
   ]
  },
  {
   "cell_type": "code",
   "execution_count": 14,
   "id": "59574661-72b8-40c7-b6db-e61483c35837",
   "metadata": {},
   "outputs": [],
   "source": [
    "list=[1,2,3,4,5,6,7,8,9,10]"
   ]
  },
  {
   "cell_type": "markdown",
   "id": "f24a63d6-e169-4e98-b118-2c2e326c4010",
   "metadata": {},
   "source": [
    "## Percentile"
   ]
  },
  {
   "cell_type": "markdown",
   "id": "fbf5075d-e4b4-44de-937a-eb7a919e6097",
   "metadata": {},
   "source": [
    "- indicates the value below which a given percentage of the data falls"
   ]
  },
  {
   "cell_type": "markdown",
   "id": "6c5d531b-f99d-4f2a-a492-5e82ac5135c8",
   "metadata": {},
   "source": [
    "=p/100 *(n+1)"
   ]
  },
  {
   "cell_type": "markdown",
   "id": "cde74a13-cf3b-492d-b0e9-82f9e1b41eb2",
   "metadata": {},
   "source": [
    "## Steps"
   ]
  },
  {
   "cell_type": "markdown",
   "id": "5d85f503-683c-4a1d-a65d-cf07b7587c24",
   "metadata": {},
   "source": [
    "- sort the data\n",
    "- find the position first\n",
    "- interpolate\n",
    "- lower value + (fraction * (Next value - lower val))"
   ]
  },
  {
   "cell_type": "markdown",
   "id": "21093bab-349f-46b9-809a-05ae1d924ce6",
   "metadata": {},
   "source": [
    "# p * (N-1)+1"
   ]
  },
  {
   "cell_type": "code",
   "execution_count": 15,
   "id": "bfcd1228-7f26-404a-9152-861863b8d2a2",
   "metadata": {},
   "outputs": [],
   "source": [
    "data=pd.DataFrame({\"data\":list})"
   ]
  },
  {
   "cell_type": "code",
   "execution_count": 16,
   "id": "09be41f6-3541-476c-9fb3-e0233e486204",
   "metadata": {},
   "outputs": [
    {
     "data": {
      "text/plain": [
       "data    3.25\n",
       "Name: 0.25, dtype: float64"
      ]
     },
     "execution_count": 16,
     "metadata": {},
     "output_type": "execute_result"
    }
   ],
   "source": [
    "data.quantile(.25)"
   ]
  },
  {
   "cell_type": "code",
   "execution_count": 19,
   "id": "5dd78d0d-c709-4d6a-841e-58b1b039a2ec",
   "metadata": {},
   "outputs": [
    {
     "data": {
      "text/plain": [
       "2.75"
      ]
     },
     "execution_count": 19,
     "metadata": {},
     "output_type": "execute_result"
    }
   ],
   "source": [
    "2+(.75*(3-2))"
   ]
  },
  {
   "cell_type": "code",
   "execution_count": 23,
   "id": "71aab1f5-2b0c-42f5-8a82-72534e9bec79",
   "metadata": {},
   "outputs": [
    {
     "data": {
      "text/plain": [
       "3.25"
      ]
     },
     "execution_count": 23,
     "metadata": {},
     "output_type": "execute_result"
    }
   ],
   "source": [
    "0.25*(10-1)+1"
   ]
  },
  {
   "cell_type": "markdown",
   "id": "37fae11f-d250-47cf-8074-5ffd8b00b30e",
   "metadata": {},
   "source": [
    "# Mean Absolute Deviation"
   ]
  },
  {
   "cell_type": "markdown",
   "id": "d264a668-5502-40f6-b2b1-5ae5e92ee297",
   "metadata": {},
   "source": [
    "- it is the average absolute difference btw each data point and the mean"
   ]
  },
  {
   "attachments": {
    "e683e856-e37f-4bd9-8219-c4b2359062dc.png": {
     "image/png": "[encoded data removed]"
    }
   },
   "cell_type": "markdown",
   "id": "6bba6664-be45-4b95-a385-80f314550831",
   "metadata": {},
   "source": [
    "![image.png](attachment:e683e856-e37f-4bd9-8219-c4b2359062dc.png)"
   ]
  },
  {
   "cell_type": "markdown",
   "id": "0e792521-e587-4af8-a849-0ff82bcf1db6",
   "metadata": {},
   "source": [
    "#### Q.Daily temp for a week\n",
    "[25,27,24,26,28,27,25]\n",
    "- Goal: measure how much the daily temp deviates from the mean"
   ]
  },
  {
   "cell_type": "markdown",
   "id": "9af22f0d-0ffd-443e-a6e7-70fca0626e12",
   "metadata": {},
   "source": [
    "it is less influenced by outliers"
   ]
  },
  {
   "cell_type": "markdown",
   "id": "5435d055-fd1c-4b71-8552-4437a40706b9",
   "metadata": {},
   "source": [
    "### imagine a factory produces bottles that should weight exactly 500 grams. Quality Control checks a sample of bottles daily to ensure the weights are close to the Target. [498,502,499,501,500]"
   ]
  },
  {
   "cell_type": "markdown",
   "id": "10220dde-ad52-44c6-9562-08ca5cef82e0",
   "metadata": {},
   "source": [
    "- Step 1: Calculate the mean of the data\n",
    "- Step 2: Calculate the absolute deviations from the mean\n",
    "- Step 3: Calculate the Mean Absolute Deviation"
   ]
  },
  {
   "cell_type": "markdown",
   "id": "e29cbc21-21d1-48e3-a4fb-88d3c79b4ab5",
   "metadata": {},
   "source": [
    "- MAD provides a general sense of how spread out the data is around the mean, not exact rule for each individual data point\n",
    "- MAD is more robustness to outliers therefore when the outlier is prior we use MAD"
   ]
  },
  {
   "cell_type": "markdown",
   "id": "5662ea24-41e6-41a5-a195-535c0a863964",
   "metadata": {},
   "source": [
    "# Variance"
   ]
  },
  {
   "cell_type": "markdown",
   "id": "edd78b2a-bccb-4253-96bd-9e619a62b4bb",
   "metadata": {},
   "source": [
    "#### it is the average of the squared deviations from the mean, Giving more weight to Larger Deviation"
   ]
  },
  {
   "attachments": {
    "4867866c-f962-41c9-bd57-3236c45aedf5.png": {
     "image/png": "[encoded data removed]"
    }
   },
   "cell_type": "markdown",
   "id": "eaeeef51-b020-4417-9261-1292a776974d",
   "metadata": {},
   "source": [
    "![image.png](attachment:4867866c-f962-41c9-bd57-3236c45aedf5.png)"
   ]
  },
  {
   "cell_type": "markdown",
   "id": "e0aa4be4-59d9-4242-b1d9-2161abeb4829",
   "metadata": {},
   "source": [
    "- Sensitive to outliers\n",
    "- Comparitive Analysis: helps in comaparing the variability\n",
    "- Foundation for other  metrics like Standard deviation"
   ]
  },
  {
   "cell_type": "markdown",
   "id": "0b233a50-dabb-4103-810e-f2639efc9330",
   "metadata": {},
   "source": [
    "#### What does variance gives\n",
    "- Variance quantifies the overall spread of the data around the mean\n",
    "- a larger variance means the data points are more spreadout from the mean\n",
    "- a smaller variance means the data points are closer to the mean\n",
    "- Variance doesn't directly give the average distance, it gives the avg squared distance, whic emphasizes larger deviations."
   ]
  },
  {
   "cell_type": "markdown",
   "id": "fc132ae7-9eb5-422b-9051-b60f70d4ee65",
   "metadata": {},
   "source": [
    "### Scenario: Light bulbs manufacturing company wants to ensure that the lifespan of its bulbs is consistent. They test a sample of bulbs and record how many hours each bulb lasts before burning out. the target lifespan for the bulb is 1000 hrs. To assess the manufacturing process, the company uses variance to check if the lifespans of the bulbs are consistent ot if these are significantdeviations. [1020,1005,1015,980,990]"
   ]
  },
  {
   "cell_type": "markdown",
   "id": "a9fe9beb-7e98-45b2-97c3-ac3134cc1b9e",
   "metadata": {},
   "source": [
    "- on average the squared deviations of the bulb lifespans from the mean are ___ hour^2"
   ]
  },
  {
   "cell_type": "markdown",
   "id": "83af2534-ca9a-4388-b802-15e1401326c2",
   "metadata": {},
   "source": [
    "#### Why Variance is Needed:\n",
    "- <b>Mathematical Simplicity in Calculus:</b>\n",
    "\n",
    "Variance involves squaring the deviations, making it differentiable and easier to work with in many mathematical and statistical operations.\n",
    "Squaring deviations simplifies optimization problems, especially when using methods like least squares in regression.\n",
    "- <b>Amplification of Outliers:</b>\n",
    "\n",
    "By squaring the deviations, variance gives more weight to larger deviations. This is useful when you want to highlight the influence of outliers in the data.\n",
    "- <b>Foundation for Standard Deviation:</b>\n",
    "\n",
    "Variance is directly linked to standard deviation (the square root of variance), which is a widely used measure of spread because it’s in the same units as the data.\n",
    "- <b>Theoretical Importance in Probability and Statistics:</b>\n",
    "\n",
    "Variance plays a crucial role in many statistical theories, like the Central Limit Theorem, which assumes that the variance of the sum of independent variables is the sum of their variances.\n",
    "It is essential in determining confidence intervals, hypothesis testing, and other inferential statistics.\n",
    "- <b>Suitability for Normal Distributions:</b>\n",
    "\n",
    "Variance aligns well with the properties of normal distributions, which assume a symmetrical spread. In such cases, variance effectively captures the distribution's spread.\n",
    "- <b>Weighted Contributions in Advanced Models:</b>\n",
    "\n",
    "In machine learning and multivariate analysis, variance is used to compute covariance matrices, principal component analysis (PCA), and more, where squared terms are crucial."
   ]
  },
  {
   "cell_type": "markdown",
   "id": "2de66d8e-be5d-4dd2-9c5f-d07712f5b24c",
   "metadata": {},
   "source": [
    "##### MAD gives an intuitive measure of spread (average distance from the mean), Variance is essential for its mathematical properties and compatibility with <b>advanced statistical and machine learning methods</b>. Both have their unique uses, and the choice depends on the problem at hand."
   ]
  },
  {
   "cell_type": "markdown",
   "id": "ea495071-599a-45f2-9e98-153d29cbc524",
   "metadata": {},
   "source": [
    "## [75,72,68,65,67,73]\n",
    "## [83,70,70,63,70,70]"
   ]
  },
  {
   "cell_type": "markdown",
   "id": "a68bb5a8-963a-40bc-a116-4037b4924b11",
   "metadata": {},
   "source": [
    "##### Why MAD Isn’t Always Sufficient?"
   ]
  },
  {
   "cell_type": "markdown",
   "id": "7f67f6c6-dc92-4fd5-bf3a-3e86fdc99ca5",
   "metadata": {},
   "source": [
    "# Standard Deviation"
   ]
  },
  {
   "attachments": {
    "012e7e1f-e5f1-4ea8-8abd-2462773b0199.png": {
     "image/png": "[encoded data removed]"
    }
   },
   "cell_type": "markdown",
   "id": "9853da60-5739-454d-85fe-f3141cfad27d",
   "metadata": {},
   "source": [
    "![image.png](attachment:012e7e1f-e5f1-4ea8-8abd-2462773b0199.png)"
   ]
  },
  {
   "cell_type": "markdown",
   "id": "a0905364-f917-4fa1-89cd-474136858ddf",
   "metadata": {},
   "source": [
    "- Standard deviation is measured in a unit similar to the units of the mean of data, whereas the variance is measured in squared units."
   ]
  },
  {
   "cell_type": "markdown",
   "id": "651b8e2b-2133-4ab4-bd72-b47afb74ffbc",
   "metadata": {},
   "source": [
    "#### A coffee shop tracks the number of customers visiting each day over two weeks (14 days). The data is as follows:\n",
    "##### 40, 42, 38, 45, 39, 41, 43, 40, 39, 44, 38, 46, 41, 42\n",
    "##### Calculate the standard deviation of the daily customer count and interpret the result."
   ]
  },
  {
   "cell_type": "code",
   "execution_count": null,
   "id": "7191b148-07dd-4ec5-a995-dc097d55f33a",
   "metadata": {},
   "outputs": [],
   "source": []
  },
  {
   "cell_type": "markdown",
   "id": "cf5b9548-8614-40ef-8238-0ee59e295791",
   "metadata": {},
   "source": [
    "#### A teacher wants to analyze the performance of two different classes (Class A and Class B) in a mathematics test graded out of 100 to determine which class has more consistent scores. The teacher has the following data:\n",
    "\n",
    "- Class A Scores (out of 100): 78, 82, 85, 88, 90\n",
    "- Class B Scores (out of 100): 55, 70, 85, 95, 100"
   ]
  },
  {
   "cell_type": "code",
   "execution_count": null,
   "id": "1c68fe9e-4e0f-4b03-9410-c02fe9dd7331",
   "metadata": {},
   "outputs": [],
   "source": []
  },
  {
   "cell_type": "markdown",
   "id": "fd5c2e30-3dd5-4615-bb36-09f6f64ed5f9",
   "metadata": {},
   "source": [
    "## Levels of measurement"
   ]
  },
  {
   "cell_type": "markdown",
   "id": "23a09621-de0b-4075-a91b-39b74e333ed0",
   "metadata": {},
   "source": [
    "### 1. Nominal Data\n",
    "Nominal data represents categories or labels without any inherent order or ranking. It is purely qualitative and used to name or classify data. For example, gender (male, female, other), colors (red, blue, green), or sports teams (Lakers, Bulls, Warriors) \n",
    "\n",
    "### 2. Ordinal Data\n",
    "Ordinal data consists of categories with a meaningful order or ranking. However, the intervals between the ranks are not equal or defined. It is qualitative data with a logical sequence. Examples include customer satisfaction levels (very unsatisfied, unsatisfied, neutral, satisfied, very satisfied), education levels (high school, bachelor’s, master’s, Ph.D.), or race positions (1st, 2nd, 3rd). While the order matters, the difference between ranks does not convey exact quantities or distances.\n",
    "\n",
    "### 3. Interval Data\n",
    "Interval data is quantitative and features meaningful intervals between values, but it lacks a true zero point. This means that while differences between values can be compared, the concept of \"none\" of the property does not exist. Examples include temperature in Celsius or Fahrenheit, where the difference between 20°C and 30°C is the same as 30°C and 40°C, but 0°C does not indicate the absence of temperature.\n",
    "\n",
    "### 4. Ratio Data\n",
    "Ratio data is quantitative data with a true zero point, which means \"none\" of the property exists at zero. This allows for all arithmetic operations, including meaningful multiplication and division. Examples include height (180 cm is twice as tall as 90 cm), weight (60 kg is three times heavier than 20 kg), age (50 years old is twice as old as 25 years). The presence of a true zero point makes ratio data the most informative and versatile type."
   ]
  },
  {
   "cell_type": "code",
   "execution_count": null,
   "id": "2c853e95-cb9d-4ab8-b642-99b49438a4f5",
   "metadata": {},
   "outputs": [],
   "source": []
  },
  {
   "cell_type": "markdown",
   "id": "5d50fcbb-02c5-445d-986f-cff2e58353ba",
   "metadata": {},
   "source": [
    "## Coefficient of Variation"
   ]
  },
  {
   "cell_type": "markdown",
   "id": "d5ad0144-139c-489c-9324-a199e5633edc",
   "metadata": {},
   "source": [
    "- The Coefficient of Variation (CV) is a statistical measure used to assess the relative variability of a dataset or a distribution. It expresses the standard deviation as a percentage of the mean\n",
    "- Instead of just looking at the absolute spread of values (like std), it looks at this spread relative to the size of the mean\n",
    "- It is a standardized, unitless measure that allows you to compare variability between disparate groups and characteristics. It is also known as the relative standard deviation (RSD)."
   ]
  },
  {
   "attachments": {
    "462877fb-599c-4486-a3ef-a68b6ed53241.png": {
     "image/png": "[encoded data removed]"
    }
   },
   "cell_type": "markdown",
   "id": "3aa0223d-a65e-4999-957a-b9b885c4221a",
   "metadata": {},
   "source": [
    "![image.png](attachment:462877fb-599c-4486-a3ef-a68b6ed53241.png)"
   ]
  },
  {
   "cell_type": "markdown",
   "id": "47b5f2b2-e93b-4292-8595-62ea653cd0ed",
   "metadata": {},
   "source": [
    "- compare the variability in SAT scores to ACT scores? While these college entrance exams are similar in nature and purpose, they use different scales. Consequently, you can’t compare their standard deviations directly.\r\n",
    "- \r\n",
    "However, the coefficient of variation standardizes the raw data, which means you can compare the relative variability of SAT and ACT scores."
   ]
  },
  {
   "cell_type": "markdown",
   "id": "cfc1cc10-c655-4991-8a91-e0ea18c3a885",
   "metadata": {},
   "source": [
    "#### 1.Two companies, A and B, report the monthly salaries of 5 employees each:\n",
    "\n",
    "##### Company A salaries: [4800, 5200, 5000, 5100, 4900]\n",
    "##### Company B salaries: [8000, 12000, 10000, 11000, 9000]\n",
    "##### Which company has greater relative variability in salaries?"
   ]
  },
  {
   "cell_type": "markdown",
   "id": "be694c10-0dc4-459a-a225-8869da6dd3d3",
   "metadata": {},
   "source": [
    "#### 2.wo factories produce packets of sugar with the following weights (in grams):\n",
    "\n",
    "##### Factory X: [998, 1002, 1000, 999, 1001]\n",
    "##### Factory Y: [995, 1005, 990, 1010, 1000]\n",
    "##### Which factory has more consistent packet weights?"
   ]
  },
  {
   "cell_type": "code",
   "execution_count": null,
   "id": "9cef5783-e64c-4a74-ba6a-3524f73a8394",
   "metadata": {},
   "outputs": [],
   "source": []
  }
 ],
 "metadata": {
  "kernelspec": {
   "display_name": "Python 3 (ipykernel)",
   "language": "python",
   "name": "python3"
  },
  "language_info": {
   "codemirror_mode": {
    "name": "ipython",
    "version": 3
   },
   "file_extension": ".py",
   "mimetype": "text/x-python",
   "name": "python",
   "nbconvert_exporter": "python",
   "pygments_lexer": "ipython3",
   "version": "3.12.4"
  }
 },
 "nbformat": 4,
 "nbformat_minor": 5
}
