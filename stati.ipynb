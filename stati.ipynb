{
 "cells": [
  {
   "cell_type": "code",
   "execution_count": 425,
   "id": "f672134f-d106-4dfc-aaab-e3804b00f3c7",
   "metadata": {},
   "outputs": [],
   "source": [
    "import pandas as pd\n",
    "import numpy as np\n",
    "from math import sqrt"
   ]
  },
  {
   "cell_type": "code",
   "execution_count": 565,
   "id": "43d22f8c-a600-4755-968c-ee8ce6477ccb",
   "metadata": {},
   "outputs": [],
   "source": [
    "import warnings\n",
    "warnings.filterwarnings(\"ignore\", category=FutureWarning)"
   ]
  },
  {
   "cell_type": "markdown",
   "id": "b08432be-ead5-457f-998a-41a3dd486459",
   "metadata": {},
   "source": [
    "# CENTRAL TENDENCY"
   ]
  },
  {
   "cell_type": "code",
   "execution_count": 426,
   "id": "49f346c3-8c26-4645-9643-316298c97be8",
   "metadata": {},
   "outputs": [],
   "source": [
    "list=[1,2,3,4]"
   ]
  },
  {
   "cell_type": "code",
   "execution_count": 427,
   "id": "3a0ba8ce-2d4c-4568-ab9f-ead47755cc7f",
   "metadata": {},
   "outputs": [
    {
     "data": {
      "text/plain": [
       "2.5"
      ]
     },
     "execution_count": 427,
     "metadata": {},
     "output_type": "execute_result"
    }
   ],
   "source": [
    "np.mean(list)"
   ]
  },
  {
   "cell_type": "code",
   "execution_count": 428,
   "id": "4fe48aae-bf1a-4605-bc5e-50752f9399fe",
   "metadata": {},
   "outputs": [],
   "source": [
    "list1=[11,12,13,14,15]"
   ]
  },
  {
   "cell_type": "code",
   "execution_count": 429,
   "id": "a0811f0b-a118-4de3-a79e-68a25aebc802",
   "metadata": {},
   "outputs": [
    {
     "data": {
      "text/plain": [
       "13.0"
      ]
     },
     "execution_count": 429,
     "metadata": {},
     "output_type": "execute_result"
    }
   ],
   "source": [
    "np.median(list1)"
   ]
  },
  {
   "cell_type": "code",
   "execution_count": 430,
   "id": "074d9dc4-5135-42a8-a3e1-646822155be6",
   "metadata": {},
   "outputs": [],
   "source": [
    "list2=[10,11,12,13,14,15,10]"
   ]
  },
  {
   "cell_type": "code",
   "execution_count": null,
   "id": "ef3b4060-bbab-469a-9879-4d0dd19bcb75",
   "metadata": {},
   "outputs": [],
   "source": []
  },
  {
   "cell_type": "code",
   "execution_count": 431,
   "id": "c2ae483e-a8d0-4163-99f0-2b03a92335f7",
   "metadata": {},
   "outputs": [],
   "source": [
    "DATA= {\n",
    "    \"Name\": [\"FABINA\", \"HANEESHA\", \"MIKHTHAD\", \"SHIFNA\", \"RIDHA\"],\n",
    "    \"Income\": [50000, 65000, 70000, 85000, 90000],\n",
    "    \"Industry\": [\"DA\",\"DS\",\"DA\",\"DS\",\"DA\"]\n",
    "}"
   ]
  },
  {
   "cell_type": "code",
   "execution_count": 432,
   "id": "faaee5b1-4d0c-46eb-893a-7b9f5846f6a9",
   "metadata": {},
   "outputs": [
    {
     "data": {
      "text/html": [
       "<div>\n",
       "<style scoped>\n",
       "    .dataframe tbody tr th:only-of-type {\n",
       "        vertical-align: middle;\n",
       "    }\n",
       "\n",
       "    .dataframe tbody tr th {\n",
       "        vertical-align: top;\n",
       "    }\n",
       "\n",
       "    .dataframe thead th {\n",
       "        text-align: right;\n",
       "    }\n",
       "</style>\n",
       "<table border=\"1\" class=\"dataframe\">\n",
       "  <thead>\n",
       "    <tr style=\"text-align: right;\">\n",
       "      <th></th>\n",
       "      <th>Name</th>\n",
       "      <th>Income</th>\n",
       "      <th>Industry</th>\n",
       "    </tr>\n",
       "  </thead>\n",
       "  <tbody>\n",
       "    <tr>\n",
       "      <th>0</th>\n",
       "      <td>FABINA</td>\n",
       "      <td>50000</td>\n",
       "      <td>DA</td>\n",
       "    </tr>\n",
       "    <tr>\n",
       "      <th>1</th>\n",
       "      <td>HANEESHA</td>\n",
       "      <td>65000</td>\n",
       "      <td>DS</td>\n",
       "    </tr>\n",
       "    <tr>\n",
       "      <th>2</th>\n",
       "      <td>MIKHTHAD</td>\n",
       "      <td>70000</td>\n",
       "      <td>DA</td>\n",
       "    </tr>\n",
       "    <tr>\n",
       "      <th>3</th>\n",
       "      <td>SHIFNA</td>\n",
       "      <td>85000</td>\n",
       "      <td>DS</td>\n",
       "    </tr>\n",
       "    <tr>\n",
       "      <th>4</th>\n",
       "      <td>RIDHA</td>\n",
       "      <td>90000</td>\n",
       "      <td>DA</td>\n",
       "    </tr>\n",
       "  </tbody>\n",
       "</table>\n",
       "</div>"
      ],
      "text/plain": [
       "       Name  Income Industry\n",
       "0    FABINA   50000       DA\n",
       "1  HANEESHA   65000       DS\n",
       "2  MIKHTHAD   70000       DA\n",
       "3    SHIFNA   85000       DS\n",
       "4     RIDHA   90000       DA"
      ]
     },
     "execution_count": 432,
     "metadata": {},
     "output_type": "execute_result"
    }
   ],
   "source": [
    "df = pd.DataFrame(DATA)\n",
    "df"
   ]
  },
  {
   "cell_type": "code",
   "execution_count": 433,
   "id": "348b1461-22ae-4140-9c44-ca22b5a4ff9d",
   "metadata": {},
   "outputs": [
    {
     "data": {
      "text/plain": [
       "72000.0"
      ]
     },
     "execution_count": 433,
     "metadata": {},
     "output_type": "execute_result"
    }
   ],
   "source": [
    "df.Income.mean()"
   ]
  },
  {
   "cell_type": "code",
   "execution_count": 434,
   "id": "bcd93d3b-4ef7-4026-8a5e-6f2775f21d10",
   "metadata": {},
   "outputs": [
    {
     "data": {
      "text/plain": [
       "72000.0"
      ]
     },
     "execution_count": 434,
     "metadata": {},
     "output_type": "execute_result"
    }
   ],
   "source": [
    "np.mean(df[\"Income\"])"
   ]
  },
  {
   "cell_type": "code",
   "execution_count": 435,
   "id": "4d4617d5-7cfb-4563-a5cd-b4c334ddea9f",
   "metadata": {},
   "outputs": [
    {
     "data": {
      "text/plain": [
       "70000.0"
      ]
     },
     "execution_count": 435,
     "metadata": {},
     "output_type": "execute_result"
    }
   ],
   "source": [
    "df.Income.median()"
   ]
  },
  {
   "cell_type": "code",
   "execution_count": 436,
   "id": "f280121b-8403-4a3c-8b97-bf6962cfaeb8",
   "metadata": {},
   "outputs": [
    {
     "data": {
      "text/plain": [
       "70000.0"
      ]
     },
     "execution_count": 436,
     "metadata": {},
     "output_type": "execute_result"
    }
   ],
   "source": [
    "np.median(df[\"Income\"])"
   ]
  },
  {
   "cell_type": "code",
   "execution_count": 437,
   "id": "6d99d246-5746-490e-b2af-6c77aeb06f7a",
   "metadata": {},
   "outputs": [
    {
     "data": {
      "text/plain": [
       "0    DA\n",
       "Name: Industry, dtype: object"
      ]
     },
     "execution_count": 437,
     "metadata": {},
     "output_type": "execute_result"
    }
   ],
   "source": [
    "df[\"Industry\"].mode()"
   ]
  },
  {
   "cell_type": "markdown",
   "id": "fb48b9b7-9573-4a62-a670-912dd25e101d",
   "metadata": {},
   "source": [
    "# Data Cleaning"
   ]
  },
  {
   "cell_type": "markdown",
   "id": "25738d84-905f-4901-9bbe-215e4d35b9ed",
   "metadata": {},
   "source": [
    "## Filling the Null valueas"
   ]
  },
  {
   "cell_type": "code",
   "execution_count": 438,
   "id": "f401d436-35e6-4ede-b563-adaee5bd4655",
   "metadata": {},
   "outputs": [],
   "source": [
    "DATA= {\n",
    "    \"Name\": [\"FABINA\", \"HANEESHA\", \"MIKHTHAD\", \"SHIFNA\", \"RIDHA\"],\n",
    "    \"Income\": [50000, 65000, np.NaN, 85000, 90000],\n",
    "    \"Industry\": [\"DA\",\"DS\",\"DA\",\"DS\",\"DA\"]\n",
    "}"
   ]
  },
  {
   "cell_type": "code",
   "execution_count": 439,
   "id": "488bcfdf-e01a-4b42-a272-8033170bd31e",
   "metadata": {},
   "outputs": [
    {
     "data": {
      "text/html": [
       "<div>\n",
       "<style scoped>\n",
       "    .dataframe tbody tr th:only-of-type {\n",
       "        vertical-align: middle;\n",
       "    }\n",
       "\n",
       "    .dataframe tbody tr th {\n",
       "        vertical-align: top;\n",
       "    }\n",
       "\n",
       "    .dataframe thead th {\n",
       "        text-align: right;\n",
       "    }\n",
       "</style>\n",
       "<table border=\"1\" class=\"dataframe\">\n",
       "  <thead>\n",
       "    <tr style=\"text-align: right;\">\n",
       "      <th></th>\n",
       "      <th>Name</th>\n",
       "      <th>Income</th>\n",
       "      <th>Industry</th>\n",
       "    </tr>\n",
       "  </thead>\n",
       "  <tbody>\n",
       "    <tr>\n",
       "      <th>0</th>\n",
       "      <td>FABINA</td>\n",
       "      <td>50000.0</td>\n",
       "      <td>DA</td>\n",
       "    </tr>\n",
       "    <tr>\n",
       "      <th>1</th>\n",
       "      <td>HANEESHA</td>\n",
       "      <td>65000.0</td>\n",
       "      <td>DS</td>\n",
       "    </tr>\n",
       "    <tr>\n",
       "      <th>2</th>\n",
       "      <td>MIKHTHAD</td>\n",
       "      <td>NaN</td>\n",
       "      <td>DA</td>\n",
       "    </tr>\n",
       "    <tr>\n",
       "      <th>3</th>\n",
       "      <td>SHIFNA</td>\n",
       "      <td>85000.0</td>\n",
       "      <td>DS</td>\n",
       "    </tr>\n",
       "    <tr>\n",
       "      <th>4</th>\n",
       "      <td>RIDHA</td>\n",
       "      <td>90000.0</td>\n",
       "      <td>DA</td>\n",
       "    </tr>\n",
       "  </tbody>\n",
       "</table>\n",
       "</div>"
      ],
      "text/plain": [
       "       Name   Income Industry\n",
       "0    FABINA  50000.0       DA\n",
       "1  HANEESHA  65000.0       DS\n",
       "2  MIKHTHAD      NaN       DA\n",
       "3    SHIFNA  85000.0       DS\n",
       "4     RIDHA  90000.0       DA"
      ]
     },
     "execution_count": 439,
     "metadata": {},
     "output_type": "execute_result"
    }
   ],
   "source": [
    "df = pd.DataFrame(DATA)\n",
    "df"
   ]
  },
  {
   "cell_type": "code",
   "execution_count": 440,
   "id": "6ff30604-5a69-4c17-a67d-4ad781a5a200",
   "metadata": {},
   "outputs": [
    {
     "data": {
      "text/html": [
       "<div>\n",
       "<style scoped>\n",
       "    .dataframe tbody tr th:only-of-type {\n",
       "        vertical-align: middle;\n",
       "    }\n",
       "\n",
       "    .dataframe tbody tr th {\n",
       "        vertical-align: top;\n",
       "    }\n",
       "\n",
       "    .dataframe thead th {\n",
       "        text-align: right;\n",
       "    }\n",
       "</style>\n",
       "<table border=\"1\" class=\"dataframe\">\n",
       "  <thead>\n",
       "    <tr style=\"text-align: right;\">\n",
       "      <th></th>\n",
       "      <th>Name</th>\n",
       "      <th>Income</th>\n",
       "      <th>Industry</th>\n",
       "    </tr>\n",
       "  </thead>\n",
       "  <tbody>\n",
       "    <tr>\n",
       "      <th>0</th>\n",
       "      <td>FABINA</td>\n",
       "      <td>50000.0</td>\n",
       "      <td>DA</td>\n",
       "    </tr>\n",
       "    <tr>\n",
       "      <th>1</th>\n",
       "      <td>HANEESHA</td>\n",
       "      <td>65000.0</td>\n",
       "      <td>DS</td>\n",
       "    </tr>\n",
       "    <tr>\n",
       "      <th>2</th>\n",
       "      <td>MIKHTHAD</td>\n",
       "      <td>72500.0</td>\n",
       "      <td>DA</td>\n",
       "    </tr>\n",
       "    <tr>\n",
       "      <th>3</th>\n",
       "      <td>SHIFNA</td>\n",
       "      <td>85000.0</td>\n",
       "      <td>DS</td>\n",
       "    </tr>\n",
       "    <tr>\n",
       "      <th>4</th>\n",
       "      <td>RIDHA</td>\n",
       "      <td>90000.0</td>\n",
       "      <td>DA</td>\n",
       "    </tr>\n",
       "  </tbody>\n",
       "</table>\n",
       "</div>"
      ],
      "text/plain": [
       "       Name   Income Industry\n",
       "0    FABINA  50000.0       DA\n",
       "1  HANEESHA  65000.0       DS\n",
       "2  MIKHTHAD  72500.0       DA\n",
       "3    SHIFNA  85000.0       DS\n",
       "4     RIDHA  90000.0       DA"
      ]
     },
     "execution_count": 440,
     "metadata": {},
     "output_type": "execute_result"
    }
   ],
   "source": [
    "df.fillna(df[\"Income\"].mean())"
   ]
  },
  {
   "cell_type": "code",
   "execution_count": null,
   "id": "fa6f1b56-fd89-44c0-b61e-86333a34ae34",
   "metadata": {},
   "outputs": [],
   "source": []
  },
  {
   "cell_type": "code",
   "execution_count": 441,
   "id": "0c00810f-528d-459e-a007-68238d01b7fe",
   "metadata": {},
   "outputs": [],
   "source": [
    "Employees= {\n",
    "    \"Name\": [\"FABINA\", \"HANEESHA\", \"MIKHTHAD\", \"SHIFNA\", \"RIDHA\",\"RASHID\"],\n",
    "    \"Income\": [50000, 65000, np.NaN, 85000, 90000,200000],\n",
    "    \"Industry\": [\"DA\",\"DS\",\"DA\",\"DS\",\"DA\",\"HEAD\"]\n",
    "}"
   ]
  },
  {
   "cell_type": "code",
   "execution_count": 442,
   "id": "4237e1e7-5e63-408f-97a4-9ff05aa04b14",
   "metadata": {},
   "outputs": [],
   "source": [
    "df=pd.DataFrame(Employees)"
   ]
  },
  {
   "cell_type": "code",
   "execution_count": 443,
   "id": "fbd6de09-976d-4622-b614-d96acd355cf7",
   "metadata": {},
   "outputs": [
    {
     "data": {
      "text/html": [
       "<div>\n",
       "<style scoped>\n",
       "    .dataframe tbody tr th:only-of-type {\n",
       "        vertical-align: middle;\n",
       "    }\n",
       "\n",
       "    .dataframe tbody tr th {\n",
       "        vertical-align: top;\n",
       "    }\n",
       "\n",
       "    .dataframe thead th {\n",
       "        text-align: right;\n",
       "    }\n",
       "</style>\n",
       "<table border=\"1\" class=\"dataframe\">\n",
       "  <thead>\n",
       "    <tr style=\"text-align: right;\">\n",
       "      <th></th>\n",
       "      <th>Name</th>\n",
       "      <th>Income</th>\n",
       "      <th>Industry</th>\n",
       "    </tr>\n",
       "  </thead>\n",
       "  <tbody>\n",
       "    <tr>\n",
       "      <th>0</th>\n",
       "      <td>FABINA</td>\n",
       "      <td>50000.0</td>\n",
       "      <td>DA</td>\n",
       "    </tr>\n",
       "    <tr>\n",
       "      <th>1</th>\n",
       "      <td>HANEESHA</td>\n",
       "      <td>65000.0</td>\n",
       "      <td>DS</td>\n",
       "    </tr>\n",
       "    <tr>\n",
       "      <th>2</th>\n",
       "      <td>MIKHTHAD</td>\n",
       "      <td>NaN</td>\n",
       "      <td>DA</td>\n",
       "    </tr>\n",
       "    <tr>\n",
       "      <th>3</th>\n",
       "      <td>SHIFNA</td>\n",
       "      <td>85000.0</td>\n",
       "      <td>DS</td>\n",
       "    </tr>\n",
       "    <tr>\n",
       "      <th>4</th>\n",
       "      <td>RIDHA</td>\n",
       "      <td>90000.0</td>\n",
       "      <td>DA</td>\n",
       "    </tr>\n",
       "    <tr>\n",
       "      <th>5</th>\n",
       "      <td>RASHID</td>\n",
       "      <td>200000.0</td>\n",
       "      <td>HEAD</td>\n",
       "    </tr>\n",
       "  </tbody>\n",
       "</table>\n",
       "</div>"
      ],
      "text/plain": [
       "       Name    Income Industry\n",
       "0    FABINA   50000.0       DA\n",
       "1  HANEESHA   65000.0       DS\n",
       "2  MIKHTHAD       NaN       DA\n",
       "3    SHIFNA   85000.0       DS\n",
       "4     RIDHA   90000.0       DA\n",
       "5    RASHID  200000.0     HEAD"
      ]
     },
     "execution_count": 443,
     "metadata": {},
     "output_type": "execute_result"
    }
   ],
   "source": [
    "df"
   ]
  },
  {
   "cell_type": "code",
   "execution_count": 444,
   "id": "808f2bc9-0ad0-4ccd-a9f7-4085dc039dba",
   "metadata": {},
   "outputs": [
    {
     "data": {
      "text/plain": [
       "98000.0"
      ]
     },
     "execution_count": 444,
     "metadata": {},
     "output_type": "execute_result"
    }
   ],
   "source": [
    "np.mean(df[\"Income\"])"
   ]
  },
  {
   "cell_type": "markdown",
   "id": "63bee583-7810-4e5a-ab08-e34e677a042f",
   "metadata": {},
   "source": [
    "### Filling null values with mean"
   ]
  },
  {
   "cell_type": "code",
   "execution_count": 445,
   "id": "c0f26100-0127-4987-b896-dac64109acb3",
   "metadata": {},
   "outputs": [
    {
     "data": {
      "text/html": [
       "<div>\n",
       "<style scoped>\n",
       "    .dataframe tbody tr th:only-of-type {\n",
       "        vertical-align: middle;\n",
       "    }\n",
       "\n",
       "    .dataframe tbody tr th {\n",
       "        vertical-align: top;\n",
       "    }\n",
       "\n",
       "    .dataframe thead th {\n",
       "        text-align: right;\n",
       "    }\n",
       "</style>\n",
       "<table border=\"1\" class=\"dataframe\">\n",
       "  <thead>\n",
       "    <tr style=\"text-align: right;\">\n",
       "      <th></th>\n",
       "      <th>Name</th>\n",
       "      <th>Income</th>\n",
       "      <th>Industry</th>\n",
       "    </tr>\n",
       "  </thead>\n",
       "  <tbody>\n",
       "    <tr>\n",
       "      <th>0</th>\n",
       "      <td>FABINA</td>\n",
       "      <td>50000.0</td>\n",
       "      <td>DA</td>\n",
       "    </tr>\n",
       "    <tr>\n",
       "      <th>1</th>\n",
       "      <td>HANEESHA</td>\n",
       "      <td>65000.0</td>\n",
       "      <td>DS</td>\n",
       "    </tr>\n",
       "    <tr>\n",
       "      <th>2</th>\n",
       "      <td>MIKHTHAD</td>\n",
       "      <td>98000.0</td>\n",
       "      <td>DA</td>\n",
       "    </tr>\n",
       "    <tr>\n",
       "      <th>3</th>\n",
       "      <td>SHIFNA</td>\n",
       "      <td>85000.0</td>\n",
       "      <td>DS</td>\n",
       "    </tr>\n",
       "    <tr>\n",
       "      <th>4</th>\n",
       "      <td>RIDHA</td>\n",
       "      <td>90000.0</td>\n",
       "      <td>DA</td>\n",
       "    </tr>\n",
       "    <tr>\n",
       "      <th>5</th>\n",
       "      <td>RASHID</td>\n",
       "      <td>200000.0</td>\n",
       "      <td>HEAD</td>\n",
       "    </tr>\n",
       "  </tbody>\n",
       "</table>\n",
       "</div>"
      ],
      "text/plain": [
       "       Name    Income Industry\n",
       "0    FABINA   50000.0       DA\n",
       "1  HANEESHA   65000.0       DS\n",
       "2  MIKHTHAD   98000.0       DA\n",
       "3    SHIFNA   85000.0       DS\n",
       "4     RIDHA   90000.0       DA\n",
       "5    RASHID  200000.0     HEAD"
      ]
     },
     "execution_count": 445,
     "metadata": {},
     "output_type": "execute_result"
    }
   ],
   "source": [
    "df.fillna(df[\"Income\"].mean())"
   ]
  },
  {
   "cell_type": "markdown",
   "id": "03d95e6f-6197-4d77-a102-6fdc1a78fba9",
   "metadata": {},
   "source": [
    "### Filling null values with mean"
   ]
  },
  {
   "cell_type": "code",
   "execution_count": 446,
   "id": "dfab4339-146a-4f3e-a91c-f7f53ee01d5c",
   "metadata": {},
   "outputs": [
    {
     "data": {
      "text/html": [
       "<div>\n",
       "<style scoped>\n",
       "    .dataframe tbody tr th:only-of-type {\n",
       "        vertical-align: middle;\n",
       "    }\n",
       "\n",
       "    .dataframe tbody tr th {\n",
       "        vertical-align: top;\n",
       "    }\n",
       "\n",
       "    .dataframe thead th {\n",
       "        text-align: right;\n",
       "    }\n",
       "</style>\n",
       "<table border=\"1\" class=\"dataframe\">\n",
       "  <thead>\n",
       "    <tr style=\"text-align: right;\">\n",
       "      <th></th>\n",
       "      <th>Name</th>\n",
       "      <th>Income</th>\n",
       "      <th>Industry</th>\n",
       "    </tr>\n",
       "  </thead>\n",
       "  <tbody>\n",
       "    <tr>\n",
       "      <th>0</th>\n",
       "      <td>FABINA</td>\n",
       "      <td>50000.0</td>\n",
       "      <td>DA</td>\n",
       "    </tr>\n",
       "    <tr>\n",
       "      <th>1</th>\n",
       "      <td>HANEESHA</td>\n",
       "      <td>65000.0</td>\n",
       "      <td>DS</td>\n",
       "    </tr>\n",
       "    <tr>\n",
       "      <th>2</th>\n",
       "      <td>MIKHTHAD</td>\n",
       "      <td>85000.0</td>\n",
       "      <td>DA</td>\n",
       "    </tr>\n",
       "    <tr>\n",
       "      <th>3</th>\n",
       "      <td>SHIFNA</td>\n",
       "      <td>85000.0</td>\n",
       "      <td>DS</td>\n",
       "    </tr>\n",
       "    <tr>\n",
       "      <th>4</th>\n",
       "      <td>RIDHA</td>\n",
       "      <td>90000.0</td>\n",
       "      <td>DA</td>\n",
       "    </tr>\n",
       "    <tr>\n",
       "      <th>5</th>\n",
       "      <td>RASHID</td>\n",
       "      <td>200000.0</td>\n",
       "      <td>HEAD</td>\n",
       "    </tr>\n",
       "  </tbody>\n",
       "</table>\n",
       "</div>"
      ],
      "text/plain": [
       "       Name    Income Industry\n",
       "0    FABINA   50000.0       DA\n",
       "1  HANEESHA   65000.0       DS\n",
       "2  MIKHTHAD   85000.0       DA\n",
       "3    SHIFNA   85000.0       DS\n",
       "4     RIDHA   90000.0       DA\n",
       "5    RASHID  200000.0     HEAD"
      ]
     },
     "execution_count": 446,
     "metadata": {},
     "output_type": "execute_result"
    }
   ],
   "source": [
    "df.fillna(df[\"Income\"].median())"
   ]
  },
  {
   "cell_type": "code",
   "execution_count": 447,
   "id": "80fa54c8-7548-4db5-a076-4574fcc60009",
   "metadata": {},
   "outputs": [],
   "source": [
    "df=pd.read_csv(\"housing.csv\")"
   ]
  },
  {
   "cell_type": "code",
   "execution_count": 448,
   "id": "0e4f1a12-0079-4329-b47b-ffeb64cd01cd",
   "metadata": {},
   "outputs": [
    {
     "data": {
      "text/html": [
       "<div>\n",
       "<style scoped>\n",
       "    .dataframe tbody tr th:only-of-type {\n",
       "        vertical-align: middle;\n",
       "    }\n",
       "\n",
       "    .dataframe tbody tr th {\n",
       "        vertical-align: top;\n",
       "    }\n",
       "\n",
       "    .dataframe thead th {\n",
       "        text-align: right;\n",
       "    }\n",
       "</style>\n",
       "<table border=\"1\" class=\"dataframe\">\n",
       "  <thead>\n",
       "    <tr style=\"text-align: right;\">\n",
       "      <th></th>\n",
       "      <th>longitude</th>\n",
       "      <th>latitude</th>\n",
       "      <th>housing_median_age</th>\n",
       "      <th>total_rooms</th>\n",
       "      <th>total_bedrooms</th>\n",
       "      <th>population</th>\n",
       "      <th>households</th>\n",
       "      <th>median_income</th>\n",
       "      <th>median_house_value</th>\n",
       "      <th>ocean_proximity</th>\n",
       "    </tr>\n",
       "  </thead>\n",
       "  <tbody>\n",
       "    <tr>\n",
       "      <th>0</th>\n",
       "      <td>-122.23</td>\n",
       "      <td>37.88</td>\n",
       "      <td>41.0</td>\n",
       "      <td>880.0</td>\n",
       "      <td>129.0</td>\n",
       "      <td>322.0</td>\n",
       "      <td>126.0</td>\n",
       "      <td>8.3252</td>\n",
       "      <td>452600.0</td>\n",
       "      <td>NEAR BAY</td>\n",
       "    </tr>\n",
       "    <tr>\n",
       "      <th>1</th>\n",
       "      <td>-122.22</td>\n",
       "      <td>37.86</td>\n",
       "      <td>21.0</td>\n",
       "      <td>7099.0</td>\n",
       "      <td>1106.0</td>\n",
       "      <td>2401.0</td>\n",
       "      <td>1138.0</td>\n",
       "      <td>8.3014</td>\n",
       "      <td>358500.0</td>\n",
       "      <td>NEAR BAY</td>\n",
       "    </tr>\n",
       "    <tr>\n",
       "      <th>2</th>\n",
       "      <td>-122.24</td>\n",
       "      <td>37.85</td>\n",
       "      <td>52.0</td>\n",
       "      <td>1467.0</td>\n",
       "      <td>190.0</td>\n",
       "      <td>496.0</td>\n",
       "      <td>177.0</td>\n",
       "      <td>7.2574</td>\n",
       "      <td>352100.0</td>\n",
       "      <td>NEAR BAY</td>\n",
       "    </tr>\n",
       "    <tr>\n",
       "      <th>3</th>\n",
       "      <td>-122.25</td>\n",
       "      <td>37.85</td>\n",
       "      <td>52.0</td>\n",
       "      <td>1274.0</td>\n",
       "      <td>235.0</td>\n",
       "      <td>558.0</td>\n",
       "      <td>219.0</td>\n",
       "      <td>5.6431</td>\n",
       "      <td>341300.0</td>\n",
       "      <td>NEAR BAY</td>\n",
       "    </tr>\n",
       "    <tr>\n",
       "      <th>4</th>\n",
       "      <td>-122.25</td>\n",
       "      <td>37.85</td>\n",
       "      <td>52.0</td>\n",
       "      <td>1627.0</td>\n",
       "      <td>280.0</td>\n",
       "      <td>565.0</td>\n",
       "      <td>259.0</td>\n",
       "      <td>3.8462</td>\n",
       "      <td>342200.0</td>\n",
       "      <td>NEAR BAY</td>\n",
       "    </tr>\n",
       "    <tr>\n",
       "      <th>...</th>\n",
       "      <td>...</td>\n",
       "      <td>...</td>\n",
       "      <td>...</td>\n",
       "      <td>...</td>\n",
       "      <td>...</td>\n",
       "      <td>...</td>\n",
       "      <td>...</td>\n",
       "      <td>...</td>\n",
       "      <td>...</td>\n",
       "      <td>...</td>\n",
       "    </tr>\n",
       "    <tr>\n",
       "      <th>20635</th>\n",
       "      <td>-121.09</td>\n",
       "      <td>39.48</td>\n",
       "      <td>25.0</td>\n",
       "      <td>1665.0</td>\n",
       "      <td>374.0</td>\n",
       "      <td>845.0</td>\n",
       "      <td>330.0</td>\n",
       "      <td>1.5603</td>\n",
       "      <td>78100.0</td>\n",
       "      <td>INLAND</td>\n",
       "    </tr>\n",
       "    <tr>\n",
       "      <th>20636</th>\n",
       "      <td>-121.21</td>\n",
       "      <td>39.49</td>\n",
       "      <td>18.0</td>\n",
       "      <td>697.0</td>\n",
       "      <td>150.0</td>\n",
       "      <td>356.0</td>\n",
       "      <td>114.0</td>\n",
       "      <td>2.5568</td>\n",
       "      <td>77100.0</td>\n",
       "      <td>INLAND</td>\n",
       "    </tr>\n",
       "    <tr>\n",
       "      <th>20637</th>\n",
       "      <td>-121.22</td>\n",
       "      <td>39.43</td>\n",
       "      <td>17.0</td>\n",
       "      <td>2254.0</td>\n",
       "      <td>485.0</td>\n",
       "      <td>1007.0</td>\n",
       "      <td>433.0</td>\n",
       "      <td>1.7000</td>\n",
       "      <td>92300.0</td>\n",
       "      <td>INLAND</td>\n",
       "    </tr>\n",
       "    <tr>\n",
       "      <th>20638</th>\n",
       "      <td>-121.32</td>\n",
       "      <td>39.43</td>\n",
       "      <td>18.0</td>\n",
       "      <td>1860.0</td>\n",
       "      <td>409.0</td>\n",
       "      <td>741.0</td>\n",
       "      <td>349.0</td>\n",
       "      <td>1.8672</td>\n",
       "      <td>84700.0</td>\n",
       "      <td>INLAND</td>\n",
       "    </tr>\n",
       "    <tr>\n",
       "      <th>20639</th>\n",
       "      <td>-121.24</td>\n",
       "      <td>39.37</td>\n",
       "      <td>16.0</td>\n",
       "      <td>2785.0</td>\n",
       "      <td>616.0</td>\n",
       "      <td>1387.0</td>\n",
       "      <td>530.0</td>\n",
       "      <td>2.3886</td>\n",
       "      <td>89400.0</td>\n",
       "      <td>INLAND</td>\n",
       "    </tr>\n",
       "  </tbody>\n",
       "</table>\n",
       "<p>20640 rows × 10 columns</p>\n",
       "</div>"
      ],
      "text/plain": [
       "       longitude  latitude  housing_median_age  total_rooms  total_bedrooms  \\\n",
       "0        -122.23     37.88                41.0        880.0           129.0   \n",
       "1        -122.22     37.86                21.0       7099.0          1106.0   \n",
       "2        -122.24     37.85                52.0       1467.0           190.0   \n",
       "3        -122.25     37.85                52.0       1274.0           235.0   \n",
       "4        -122.25     37.85                52.0       1627.0           280.0   \n",
       "...          ...       ...                 ...          ...             ...   \n",
       "20635    -121.09     39.48                25.0       1665.0           374.0   \n",
       "20636    -121.21     39.49                18.0        697.0           150.0   \n",
       "20637    -121.22     39.43                17.0       2254.0           485.0   \n",
       "20638    -121.32     39.43                18.0       1860.0           409.0   \n",
       "20639    -121.24     39.37                16.0       2785.0           616.0   \n",
       "\n",
       "       population  households  median_income  median_house_value  \\\n",
       "0           322.0       126.0         8.3252            452600.0   \n",
       "1          2401.0      1138.0         8.3014            358500.0   \n",
       "2           496.0       177.0         7.2574            352100.0   \n",
       "3           558.0       219.0         5.6431            341300.0   \n",
       "4           565.0       259.0         3.8462            342200.0   \n",
       "...           ...         ...            ...                 ...   \n",
       "20635       845.0       330.0         1.5603             78100.0   \n",
       "20636       356.0       114.0         2.5568             77100.0   \n",
       "20637      1007.0       433.0         1.7000             92300.0   \n",
       "20638       741.0       349.0         1.8672             84700.0   \n",
       "20639      1387.0       530.0         2.3886             89400.0   \n",
       "\n",
       "      ocean_proximity  \n",
       "0            NEAR BAY  \n",
       "1            NEAR BAY  \n",
       "2            NEAR BAY  \n",
       "3            NEAR BAY  \n",
       "4            NEAR BAY  \n",
       "...               ...  \n",
       "20635          INLAND  \n",
       "20636          INLAND  \n",
       "20637          INLAND  \n",
       "20638          INLAND  \n",
       "20639          INLAND  \n",
       "\n",
       "[20640 rows x 10 columns]"
      ]
     },
     "execution_count": 448,
     "metadata": {},
     "output_type": "execute_result"
    }
   ],
   "source": [
    "df"
   ]
  },
  {
   "cell_type": "code",
   "execution_count": 449,
   "id": "c8d5938c-a3d7-4dc9-a82a-265b3e26388e",
   "metadata": {},
   "outputs": [
    {
     "data": {
      "text/html": [
       "<div>\n",
       "<style scoped>\n",
       "    .dataframe tbody tr th:only-of-type {\n",
       "        vertical-align: middle;\n",
       "    }\n",
       "\n",
       "    .dataframe tbody tr th {\n",
       "        vertical-align: top;\n",
       "    }\n",
       "\n",
       "    .dataframe thead th {\n",
       "        text-align: right;\n",
       "    }\n",
       "</style>\n",
       "<table border=\"1\" class=\"dataframe\">\n",
       "  <thead>\n",
       "    <tr style=\"text-align: right;\">\n",
       "      <th></th>\n",
       "      <th>longitude</th>\n",
       "      <th>latitude</th>\n",
       "      <th>housing_median_age</th>\n",
       "      <th>total_rooms</th>\n",
       "      <th>total_bedrooms</th>\n",
       "      <th>population</th>\n",
       "      <th>households</th>\n",
       "      <th>median_income</th>\n",
       "      <th>median_house_value</th>\n",
       "    </tr>\n",
       "  </thead>\n",
       "  <tbody>\n",
       "    <tr>\n",
       "      <th>count</th>\n",
       "      <td>20640.000000</td>\n",
       "      <td>20640.000000</td>\n",
       "      <td>20640.000000</td>\n",
       "      <td>20640.000000</td>\n",
       "      <td>20433.000000</td>\n",
       "      <td>20640.000000</td>\n",
       "      <td>20640.000000</td>\n",
       "      <td>20640.000000</td>\n",
       "      <td>20640.000000</td>\n",
       "    </tr>\n",
       "    <tr>\n",
       "      <th>mean</th>\n",
       "      <td>-119.569704</td>\n",
       "      <td>35.631861</td>\n",
       "      <td>28.639486</td>\n",
       "      <td>2635.763081</td>\n",
       "      <td>537.870553</td>\n",
       "      <td>1425.476744</td>\n",
       "      <td>499.539680</td>\n",
       "      <td>3.870671</td>\n",
       "      <td>206855.816909</td>\n",
       "    </tr>\n",
       "    <tr>\n",
       "      <th>std</th>\n",
       "      <td>2.003532</td>\n",
       "      <td>2.135952</td>\n",
       "      <td>12.585558</td>\n",
       "      <td>2181.615252</td>\n",
       "      <td>421.385070</td>\n",
       "      <td>1132.462122</td>\n",
       "      <td>382.329753</td>\n",
       "      <td>1.899822</td>\n",
       "      <td>115395.615874</td>\n",
       "    </tr>\n",
       "    <tr>\n",
       "      <th>min</th>\n",
       "      <td>-124.350000</td>\n",
       "      <td>32.540000</td>\n",
       "      <td>1.000000</td>\n",
       "      <td>2.000000</td>\n",
       "      <td>1.000000</td>\n",
       "      <td>3.000000</td>\n",
       "      <td>1.000000</td>\n",
       "      <td>0.499900</td>\n",
       "      <td>14999.000000</td>\n",
       "    </tr>\n",
       "    <tr>\n",
       "      <th>25%</th>\n",
       "      <td>-121.800000</td>\n",
       "      <td>33.930000</td>\n",
       "      <td>18.000000</td>\n",
       "      <td>1447.750000</td>\n",
       "      <td>296.000000</td>\n",
       "      <td>787.000000</td>\n",
       "      <td>280.000000</td>\n",
       "      <td>2.563400</td>\n",
       "      <td>119600.000000</td>\n",
       "    </tr>\n",
       "    <tr>\n",
       "      <th>50%</th>\n",
       "      <td>-118.490000</td>\n",
       "      <td>34.260000</td>\n",
       "      <td>29.000000</td>\n",
       "      <td>2127.000000</td>\n",
       "      <td>435.000000</td>\n",
       "      <td>1166.000000</td>\n",
       "      <td>409.000000</td>\n",
       "      <td>3.534800</td>\n",
       "      <td>179700.000000</td>\n",
       "    </tr>\n",
       "    <tr>\n",
       "      <th>75%</th>\n",
       "      <td>-118.010000</td>\n",
       "      <td>37.710000</td>\n",
       "      <td>37.000000</td>\n",
       "      <td>3148.000000</td>\n",
       "      <td>647.000000</td>\n",
       "      <td>1725.000000</td>\n",
       "      <td>605.000000</td>\n",
       "      <td>4.743250</td>\n",
       "      <td>264725.000000</td>\n",
       "    </tr>\n",
       "    <tr>\n",
       "      <th>max</th>\n",
       "      <td>-114.310000</td>\n",
       "      <td>41.950000</td>\n",
       "      <td>52.000000</td>\n",
       "      <td>39320.000000</td>\n",
       "      <td>6445.000000</td>\n",
       "      <td>35682.000000</td>\n",
       "      <td>6082.000000</td>\n",
       "      <td>15.000100</td>\n",
       "      <td>500001.000000</td>\n",
       "    </tr>\n",
       "  </tbody>\n",
       "</table>\n",
       "</div>"
      ],
      "text/plain": [
       "          longitude      latitude  housing_median_age   total_rooms  \\\n",
       "count  20640.000000  20640.000000        20640.000000  20640.000000   \n",
       "mean    -119.569704     35.631861           28.639486   2635.763081   \n",
       "std        2.003532      2.135952           12.585558   2181.615252   \n",
       "min     -124.350000     32.540000            1.000000      2.000000   \n",
       "25%     -121.800000     33.930000           18.000000   1447.750000   \n",
       "50%     -118.490000     34.260000           29.000000   2127.000000   \n",
       "75%     -118.010000     37.710000           37.000000   3148.000000   \n",
       "max     -114.310000     41.950000           52.000000  39320.000000   \n",
       "\n",
       "       total_bedrooms    population    households  median_income  \\\n",
       "count    20433.000000  20640.000000  20640.000000   20640.000000   \n",
       "mean       537.870553   1425.476744    499.539680       3.870671   \n",
       "std        421.385070   1132.462122    382.329753       1.899822   \n",
       "min          1.000000      3.000000      1.000000       0.499900   \n",
       "25%        296.000000    787.000000    280.000000       2.563400   \n",
       "50%        435.000000   1166.000000    409.000000       3.534800   \n",
       "75%        647.000000   1725.000000    605.000000       4.743250   \n",
       "max       6445.000000  35682.000000   6082.000000      15.000100   \n",
       "\n",
       "       median_house_value  \n",
       "count        20640.000000  \n",
       "mean        206855.816909  \n",
       "std         115395.615874  \n",
       "min          14999.000000  \n",
       "25%         119600.000000  \n",
       "50%         179700.000000  \n",
       "75%         264725.000000  \n",
       "max         500001.000000  "
      ]
     },
     "execution_count": 449,
     "metadata": {},
     "output_type": "execute_result"
    }
   ],
   "source": [
    "df.describe()"
   ]
  },
  {
   "cell_type": "code",
   "execution_count": 450,
   "id": "d9429df1-6660-46b0-a443-5bc7521d8385",
   "metadata": {},
   "outputs": [
    {
     "data": {
      "text/plain": [
       "Index(['longitude', 'latitude', 'housing_median_age', 'total_rooms',\n",
       "       'total_bedrooms', 'population', 'households', 'median_income',\n",
       "       'median_house_value', 'ocean_proximity'],\n",
       "      dtype='object')"
      ]
     },
     "execution_count": 450,
     "metadata": {},
     "output_type": "execute_result"
    }
   ],
   "source": [
    "df.columns"
   ]
  },
  {
   "cell_type": "code",
   "execution_count": 451,
   "id": "ea01c5f1-0719-47ad-9ad2-9c269b4f4bbb",
   "metadata": {},
   "outputs": [
    {
     "data": {
      "text/plain": [
       "28.639486434108527"
      ]
     },
     "execution_count": 451,
     "metadata": {},
     "output_type": "execute_result"
    }
   ],
   "source": [
    "np.mean(df[\"housing_median_age\"])"
   ]
  },
  {
   "cell_type": "code",
   "execution_count": 452,
   "id": "92e13375-2707-4fbf-bd14-a07613e367e5",
   "metadata": {},
   "outputs": [
    {
     "data": {
      "text/plain": [
       "29.0"
      ]
     },
     "execution_count": 452,
     "metadata": {},
     "output_type": "execute_result"
    }
   ],
   "source": [
    "np.median(df[\"housing_median_age\"])"
   ]
  },
  {
   "cell_type": "code",
   "execution_count": 453,
   "id": "081d2ec3-1d0c-4fde-b2bc-63852e7dce11",
   "metadata": {},
   "outputs": [
    {
     "data": {
      "text/plain": [
       "0    52.0\n",
       "Name: housing_median_age, dtype: float64"
      ]
     },
     "execution_count": 453,
     "metadata": {},
     "output_type": "execute_result"
    }
   ],
   "source": [
    "df[\"housing_median_age\"].mode()"
   ]
  },
  {
   "cell_type": "code",
   "execution_count": 454,
   "id": "69991179-2965-472f-a4eb-5e3b8ff45eba",
   "metadata": {},
   "outputs": [
    {
     "data": {
      "text/plain": [
       "2635.7630813953488"
      ]
     },
     "execution_count": 454,
     "metadata": {},
     "output_type": "execute_result"
    }
   ],
   "source": [
    "np.mean(df[\"total_rooms\"])"
   ]
  },
  {
   "cell_type": "code",
   "execution_count": 455,
   "id": "35ed6300-482d-4ffb-a7da-7531ea210b5a",
   "metadata": {},
   "outputs": [
    {
     "data": {
      "text/plain": [
       "2127.0"
      ]
     },
     "execution_count": 455,
     "metadata": {},
     "output_type": "execute_result"
    }
   ],
   "source": [
    "np.median(df[\"total_rooms\"])"
   ]
  },
  {
   "cell_type": "code",
   "execution_count": 456,
   "id": "b5409cf7-7ba5-434c-ab1a-1344729024ed",
   "metadata": {},
   "outputs": [
    {
     "data": {
      "text/plain": [
       "0    1527.0\n",
       "Name: total_rooms, dtype: float64"
      ]
     },
     "execution_count": 456,
     "metadata": {},
     "output_type": "execute_result"
    }
   ],
   "source": [
    "df[\"total_rooms\"].mode()"
   ]
  },
  {
   "cell_type": "code",
   "execution_count": 457,
   "id": "4d3862ba-712f-43bc-ac05-9b3b96ef4971",
   "metadata": {},
   "outputs": [
    {
     "data": {
      "text/plain": [
       "537.8705525375618"
      ]
     },
     "execution_count": 457,
     "metadata": {},
     "output_type": "execute_result"
    }
   ],
   "source": [
    "np.mean(df['total_bedrooms'])\n"
   ]
  },
  {
   "cell_type": "code",
   "execution_count": 458,
   "id": "35a52517-092c-450a-b615-611390e603d8",
   "metadata": {},
   "outputs": [
    {
     "data": {
      "text/plain": [
       "nan"
      ]
     },
     "execution_count": 458,
     "metadata": {},
     "output_type": "execute_result"
    }
   ],
   "source": [
    "np.median(df['total_bedrooms'])\n"
   ]
  },
  {
   "cell_type": "code",
   "execution_count": 459,
   "id": "70390a58-12ac-4a0b-ac93-cbba06220776",
   "metadata": {},
   "outputs": [
    {
     "data": {
      "text/plain": [
       "0    280.0\n",
       "Name: total_bedrooms, dtype: float64"
      ]
     },
     "execution_count": 459,
     "metadata": {},
     "output_type": "execute_result"
    }
   ],
   "source": [
    "df[\"total_bedrooms\"].mode()"
   ]
  },
  {
   "cell_type": "code",
   "execution_count": 460,
   "id": "c9a1f92b-a7a3-4b4b-bd7e-3fd6bd213d2a",
   "metadata": {},
   "outputs": [
    {
     "data": {
      "text/plain": [
       "1425.4767441860465"
      ]
     },
     "execution_count": 460,
     "metadata": {},
     "output_type": "execute_result"
    }
   ],
   "source": [
    "df.population.mean()\n"
   ]
  },
  {
   "cell_type": "code",
   "execution_count": 461,
   "id": "cabe41c3-ee75-41a5-b17a-7c7151af0839",
   "metadata": {},
   "outputs": [
    {
     "data": {
      "text/plain": [
       "1166.0"
      ]
     },
     "execution_count": 461,
     "metadata": {},
     "output_type": "execute_result"
    }
   ],
   "source": [
    "df.population.median()"
   ]
  },
  {
   "cell_type": "code",
   "execution_count": 462,
   "id": "8a276a77-33b3-4d25-9373-c9b35d57b268",
   "metadata": {},
   "outputs": [
    {
     "data": {
      "text/plain": [
       "0    891.0\n",
       "Name: population, dtype: float64"
      ]
     },
     "execution_count": 462,
     "metadata": {},
     "output_type": "execute_result"
    }
   ],
   "source": [
    "df.population.mode()"
   ]
  },
  {
   "cell_type": "code",
   "execution_count": 463,
   "id": "58623493-43f4-4ec6-9cda-b594b04a5a67",
   "metadata": {},
   "outputs": [
    {
     "data": {
      "text/plain": [
       "499.5396802325581"
      ]
     },
     "execution_count": 463,
     "metadata": {},
     "output_type": "execute_result"
    }
   ],
   "source": [
    "df.households.mean()"
   ]
  },
  {
   "cell_type": "code",
   "execution_count": 464,
   "id": "a721b104-7459-4c19-a9e8-7f3914908229",
   "metadata": {},
   "outputs": [
    {
     "data": {
      "text/plain": [
       "409.0"
      ]
     },
     "execution_count": 464,
     "metadata": {},
     "output_type": "execute_result"
    }
   ],
   "source": [
    "df.households.median()"
   ]
  },
  {
   "cell_type": "code",
   "execution_count": 465,
   "id": "6b7c0625-cf4b-4fd1-a8d2-495cc7290649",
   "metadata": {},
   "outputs": [
    {
     "data": {
      "text/plain": [
       "0    306.0\n",
       "Name: households, dtype: float64"
      ]
     },
     "execution_count": 465,
     "metadata": {},
     "output_type": "execute_result"
    }
   ],
   "source": [
    "df.households.mode()"
   ]
  },
  {
   "cell_type": "code",
   "execution_count": 466,
   "id": "14402b7c-019f-472a-aa4c-67930d03415b",
   "metadata": {},
   "outputs": [
    {
     "data": {
      "text/plain": [
       "3.8706710029069766"
      ]
     },
     "execution_count": 466,
     "metadata": {},
     "output_type": "execute_result"
    }
   ],
   "source": [
    "df.median_income.mean()"
   ]
  },
  {
   "cell_type": "code",
   "execution_count": 467,
   "id": "94f4d163-0c71-4859-8430-d8f82e8a21a4",
   "metadata": {},
   "outputs": [
    {
     "data": {
      "text/plain": [
       "3.5347999999999997"
      ]
     },
     "execution_count": 467,
     "metadata": {},
     "output_type": "execute_result"
    }
   ],
   "source": [
    "df.median_income.median()\n"
   ]
  },
  {
   "cell_type": "code",
   "execution_count": 468,
   "id": "778f6521-b038-4174-bcc1-562478c3f87f",
   "metadata": {},
   "outputs": [
    {
     "data": {
      "text/plain": [
       "0     3.1250\n",
       "1    15.0001\n",
       "Name: median_income, dtype: float64"
      ]
     },
     "execution_count": 468,
     "metadata": {},
     "output_type": "execute_result"
    }
   ],
   "source": [
    "df.median_income.mode()\n"
   ]
  },
  {
   "cell_type": "code",
   "execution_count": 469,
   "id": "fb0cf5d1-2853-4f99-8872-608ce17c2225",
   "metadata": {},
   "outputs": [
    {
     "data": {
      "text/plain": [
       "206855.81690891474"
      ]
     },
     "execution_count": 469,
     "metadata": {},
     "output_type": "execute_result"
    }
   ],
   "source": [
    "df.median_house_value.mean()"
   ]
  },
  {
   "cell_type": "code",
   "execution_count": 470,
   "id": "6bb5ce2c-2101-4197-8185-79abd82df60c",
   "metadata": {},
   "outputs": [
    {
     "data": {
      "text/plain": [
       "179700.0"
      ]
     },
     "execution_count": 470,
     "metadata": {},
     "output_type": "execute_result"
    }
   ],
   "source": [
    "df.median_house_value.median()"
   ]
  },
  {
   "cell_type": "code",
   "execution_count": 471,
   "id": "345f71fb-48b7-49a9-99f0-0a5aaac85994",
   "metadata": {},
   "outputs": [
    {
     "data": {
      "text/plain": [
       "0    500001.0\n",
       "Name: median_house_value, dtype: float64"
      ]
     },
     "execution_count": 471,
     "metadata": {},
     "output_type": "execute_result"
    }
   ],
   "source": [
    "df.median_house_value.mode()\n"
   ]
  },
  {
   "cell_type": "code",
   "execution_count": 472,
   "id": "b9a552a3-1276-44a0-982f-1dc6c3645451",
   "metadata": {},
   "outputs": [
    {
     "data": {
      "text/plain": [
       "0    <1H OCEAN\n",
       "Name: ocean_proximity, dtype: object"
      ]
     },
     "execution_count": 472,
     "metadata": {},
     "output_type": "execute_result"
    }
   ],
   "source": [
    "df.ocean_proximity.mode()"
   ]
  },
  {
   "cell_type": "markdown",
   "id": "9d7e46d9-5e1f-470c-b09a-5f9e98cefe14",
   "metadata": {},
   "source": [
    "# QUARTILE"
   ]
  },
  {
   "cell_type": "code",
   "execution_count": 473,
   "id": "3120b3ef-101b-4e2b-ab9c-749b9e03da3d",
   "metadata": {},
   "outputs": [
    {
     "data": {
      "text/plain": [
       "Index(['longitude', 'latitude', 'housing_median_age', 'total_rooms',\n",
       "       'total_bedrooms', 'population', 'households', 'median_income',\n",
       "       'median_house_value', 'ocean_proximity'],\n",
       "      dtype='object')"
      ]
     },
     "execution_count": 473,
     "metadata": {},
     "output_type": "execute_result"
    }
   ],
   "source": [
    "df.columns"
   ]
  },
  {
   "cell_type": "code",
   "execution_count": 474,
   "id": "7075c176-a95d-4998-83d1-91136d593512",
   "metadata": {},
   "outputs": [
    {
     "data": {
      "text/plain": [
       "1447.75"
      ]
     },
     "execution_count": 474,
     "metadata": {},
     "output_type": "execute_result"
    }
   ],
   "source": [
    "Q1=df.total_rooms.quantile(.25)\n",
    "Q1"
   ]
  },
  {
   "cell_type": "code",
   "execution_count": 475,
   "id": "3e760f10-1a23-43ac-a935-30d8c9adc25c",
   "metadata": {},
   "outputs": [
    {
     "data": {
      "text/plain": [
       "2127.0"
      ]
     },
     "execution_count": 475,
     "metadata": {},
     "output_type": "execute_result"
    }
   ],
   "source": [
    "Q2=df.total_rooms.quantile(.50)\n",
    "Q2"
   ]
  },
  {
   "cell_type": "code",
   "execution_count": 476,
   "id": "f4e6166f-fb3c-4db7-a1f7-00e97a04941e",
   "metadata": {},
   "outputs": [
    {
     "data": {
      "text/plain": [
       "3148.0"
      ]
     },
     "execution_count": 476,
     "metadata": {},
     "output_type": "execute_result"
    }
   ],
   "source": [
    "Q3=df.total_rooms.quantile(.75)\n",
    "Q3"
   ]
  },
  {
   "cell_type": "code",
   "execution_count": 477,
   "id": "16ebbac4-e00f-41e5-8dbb-78938eeec7c5",
   "metadata": {},
   "outputs": [
    {
     "data": {
      "text/plain": [
       "280.0"
      ]
     },
     "execution_count": 477,
     "metadata": {},
     "output_type": "execute_result"
    }
   ],
   "source": [
    "df.households.quantile(.25)"
   ]
  },
  {
   "cell_type": "code",
   "execution_count": 478,
   "id": "8db12eb1-f791-43ad-b098-3d3681ded041",
   "metadata": {},
   "outputs": [
    {
     "data": {
      "text/plain": [
       "409.0"
      ]
     },
     "execution_count": 478,
     "metadata": {},
     "output_type": "execute_result"
    }
   ],
   "source": [
    "df.households.quantile(.50)"
   ]
  },
  {
   "cell_type": "code",
   "execution_count": 479,
   "id": "d5c6636e-4784-4e5b-9259-0df6917cf6cc",
   "metadata": {},
   "outputs": [
    {
     "data": {
      "text/plain": [
       "605.0"
      ]
     },
     "execution_count": 479,
     "metadata": {},
     "output_type": "execute_result"
    }
   ],
   "source": [
    "df.households.quantile(.75)"
   ]
  },
  {
   "cell_type": "code",
   "execution_count": 480,
   "id": "4bcb3bbe-e666-40db-aa66-61419e70bcc7",
   "metadata": {},
   "outputs": [
    {
     "data": {
      "text/html": [
       "<div>\n",
       "<style scoped>\n",
       "    .dataframe tbody tr th:only-of-type {\n",
       "        vertical-align: middle;\n",
       "    }\n",
       "\n",
       "    .dataframe tbody tr th {\n",
       "        vertical-align: top;\n",
       "    }\n",
       "\n",
       "    .dataframe thead th {\n",
       "        text-align: right;\n",
       "    }\n",
       "</style>\n",
       "<table border=\"1\" class=\"dataframe\">\n",
       "  <thead>\n",
       "    <tr style=\"text-align: right;\">\n",
       "      <th></th>\n",
       "      <th>longitude</th>\n",
       "      <th>latitude</th>\n",
       "      <th>housing_median_age</th>\n",
       "      <th>total_rooms</th>\n",
       "      <th>total_bedrooms</th>\n",
       "      <th>population</th>\n",
       "      <th>households</th>\n",
       "      <th>median_income</th>\n",
       "      <th>median_house_value</th>\n",
       "    </tr>\n",
       "  </thead>\n",
       "  <tbody>\n",
       "    <tr>\n",
       "      <th>count</th>\n",
       "      <td>20640.000000</td>\n",
       "      <td>20640.000000</td>\n",
       "      <td>20640.000000</td>\n",
       "      <td>20640.000000</td>\n",
       "      <td>20433.000000</td>\n",
       "      <td>20640.000000</td>\n",
       "      <td>20640.000000</td>\n",
       "      <td>20640.000000</td>\n",
       "      <td>20640.000000</td>\n",
       "    </tr>\n",
       "    <tr>\n",
       "      <th>mean</th>\n",
       "      <td>-119.569704</td>\n",
       "      <td>35.631861</td>\n",
       "      <td>28.639486</td>\n",
       "      <td>2635.763081</td>\n",
       "      <td>537.870553</td>\n",
       "      <td>1425.476744</td>\n",
       "      <td>499.539680</td>\n",
       "      <td>3.870671</td>\n",
       "      <td>206855.816909</td>\n",
       "    </tr>\n",
       "    <tr>\n",
       "      <th>std</th>\n",
       "      <td>2.003532</td>\n",
       "      <td>2.135952</td>\n",
       "      <td>12.585558</td>\n",
       "      <td>2181.615252</td>\n",
       "      <td>421.385070</td>\n",
       "      <td>1132.462122</td>\n",
       "      <td>382.329753</td>\n",
       "      <td>1.899822</td>\n",
       "      <td>115395.615874</td>\n",
       "    </tr>\n",
       "    <tr>\n",
       "      <th>min</th>\n",
       "      <td>-124.350000</td>\n",
       "      <td>32.540000</td>\n",
       "      <td>1.000000</td>\n",
       "      <td>2.000000</td>\n",
       "      <td>1.000000</td>\n",
       "      <td>3.000000</td>\n",
       "      <td>1.000000</td>\n",
       "      <td>0.499900</td>\n",
       "      <td>14999.000000</td>\n",
       "    </tr>\n",
       "    <tr>\n",
       "      <th>25%</th>\n",
       "      <td>-121.800000</td>\n",
       "      <td>33.930000</td>\n",
       "      <td>18.000000</td>\n",
       "      <td>1447.750000</td>\n",
       "      <td>296.000000</td>\n",
       "      <td>787.000000</td>\n",
       "      <td>280.000000</td>\n",
       "      <td>2.563400</td>\n",
       "      <td>119600.000000</td>\n",
       "    </tr>\n",
       "    <tr>\n",
       "      <th>50%</th>\n",
       "      <td>-118.490000</td>\n",
       "      <td>34.260000</td>\n",
       "      <td>29.000000</td>\n",
       "      <td>2127.000000</td>\n",
       "      <td>435.000000</td>\n",
       "      <td>1166.000000</td>\n",
       "      <td>409.000000</td>\n",
       "      <td>3.534800</td>\n",
       "      <td>179700.000000</td>\n",
       "    </tr>\n",
       "    <tr>\n",
       "      <th>75%</th>\n",
       "      <td>-118.010000</td>\n",
       "      <td>37.710000</td>\n",
       "      <td>37.000000</td>\n",
       "      <td>3148.000000</td>\n",
       "      <td>647.000000</td>\n",
       "      <td>1725.000000</td>\n",
       "      <td>605.000000</td>\n",
       "      <td>4.743250</td>\n",
       "      <td>264725.000000</td>\n",
       "    </tr>\n",
       "    <tr>\n",
       "      <th>max</th>\n",
       "      <td>-114.310000</td>\n",
       "      <td>41.950000</td>\n",
       "      <td>52.000000</td>\n",
       "      <td>39320.000000</td>\n",
       "      <td>6445.000000</td>\n",
       "      <td>35682.000000</td>\n",
       "      <td>6082.000000</td>\n",
       "      <td>15.000100</td>\n",
       "      <td>500001.000000</td>\n",
       "    </tr>\n",
       "  </tbody>\n",
       "</table>\n",
       "</div>"
      ],
      "text/plain": [
       "          longitude      latitude  housing_median_age   total_rooms  \\\n",
       "count  20640.000000  20640.000000        20640.000000  20640.000000   \n",
       "mean    -119.569704     35.631861           28.639486   2635.763081   \n",
       "std        2.003532      2.135952           12.585558   2181.615252   \n",
       "min     -124.350000     32.540000            1.000000      2.000000   \n",
       "25%     -121.800000     33.930000           18.000000   1447.750000   \n",
       "50%     -118.490000     34.260000           29.000000   2127.000000   \n",
       "75%     -118.010000     37.710000           37.000000   3148.000000   \n",
       "max     -114.310000     41.950000           52.000000  39320.000000   \n",
       "\n",
       "       total_bedrooms    population    households  median_income  \\\n",
       "count    20433.000000  20640.000000  20640.000000   20640.000000   \n",
       "mean       537.870553   1425.476744    499.539680       3.870671   \n",
       "std        421.385070   1132.462122    382.329753       1.899822   \n",
       "min          1.000000      3.000000      1.000000       0.499900   \n",
       "25%        296.000000    787.000000    280.000000       2.563400   \n",
       "50%        435.000000   1166.000000    409.000000       3.534800   \n",
       "75%        647.000000   1725.000000    605.000000       4.743250   \n",
       "max       6445.000000  35682.000000   6082.000000      15.000100   \n",
       "\n",
       "       median_house_value  \n",
       "count        20640.000000  \n",
       "mean        206855.816909  \n",
       "std         115395.615874  \n",
       "min          14999.000000  \n",
       "25%         119600.000000  \n",
       "50%         179700.000000  \n",
       "75%         264725.000000  \n",
       "max         500001.000000  "
      ]
     },
     "execution_count": 480,
     "metadata": {},
     "output_type": "execute_result"
    }
   ],
   "source": [
    "df.describe()"
   ]
  },
  {
   "cell_type": "code",
   "execution_count": 481,
   "id": "d10ed418-8ccd-4455-9032-2ee04931f002",
   "metadata": {},
   "outputs": [
    {
     "data": {
      "text/plain": [
       "2287.0"
      ]
     },
     "execution_count": 481,
     "metadata": {},
     "output_type": "execute_result"
    }
   ],
   "source": [
    "df.total_rooms.quantile(.55)"
   ]
  },
  {
   "cell_type": "markdown",
   "id": "7c17305e-9fcc-4e11-85bc-0aaec84d6cbe",
   "metadata": {},
   "source": [
    "## create a function for mean,median,Q1,Q2,Q3 of a numerical values in a dataset."
   ]
  },
  {
   "cell_type": "code",
   "execution_count": 482,
   "id": "a2f28602-7a99-44b7-9044-eee651507aed",
   "metadata": {},
   "outputs": [
    {
     "data": {
      "text/html": [
       "<div>\n",
       "<style scoped>\n",
       "    .dataframe tbody tr th:only-of-type {\n",
       "        vertical-align: middle;\n",
       "    }\n",
       "\n",
       "    .dataframe tbody tr th {\n",
       "        vertical-align: top;\n",
       "    }\n",
       "\n",
       "    .dataframe thead th {\n",
       "        text-align: right;\n",
       "    }\n",
       "</style>\n",
       "<table border=\"1\" class=\"dataframe\">\n",
       "  <thead>\n",
       "    <tr style=\"text-align: right;\">\n",
       "      <th></th>\n",
       "      <th>columns</th>\n",
       "      <th>mean</th>\n",
       "      <th>median</th>\n",
       "      <th>Q1</th>\n",
       "      <th>Q2</th>\n",
       "      <th>Q3</th>\n",
       "    </tr>\n",
       "  </thead>\n",
       "  <tbody>\n",
       "    <tr>\n",
       "      <th>0</th>\n",
       "      <td>longitude</td>\n",
       "      <td>-119.569704</td>\n",
       "      <td>-118.4900</td>\n",
       "      <td>-121.8000</td>\n",
       "      <td>-118.4900</td>\n",
       "      <td>-118.01000</td>\n",
       "    </tr>\n",
       "    <tr>\n",
       "      <th>1</th>\n",
       "      <td>latitude</td>\n",
       "      <td>35.631861</td>\n",
       "      <td>34.2600</td>\n",
       "      <td>33.9300</td>\n",
       "      <td>34.2600</td>\n",
       "      <td>37.71000</td>\n",
       "    </tr>\n",
       "    <tr>\n",
       "      <th>2</th>\n",
       "      <td>housing_median_age</td>\n",
       "      <td>28.639486</td>\n",
       "      <td>29.0000</td>\n",
       "      <td>18.0000</td>\n",
       "      <td>29.0000</td>\n",
       "      <td>37.00000</td>\n",
       "    </tr>\n",
       "    <tr>\n",
       "      <th>3</th>\n",
       "      <td>total_rooms</td>\n",
       "      <td>2635.763081</td>\n",
       "      <td>2127.0000</td>\n",
       "      <td>1447.7500</td>\n",
       "      <td>2127.0000</td>\n",
       "      <td>3148.00000</td>\n",
       "    </tr>\n",
       "    <tr>\n",
       "      <th>4</th>\n",
       "      <td>total_bedrooms</td>\n",
       "      <td>537.870553</td>\n",
       "      <td>435.0000</td>\n",
       "      <td>296.0000</td>\n",
       "      <td>435.0000</td>\n",
       "      <td>647.00000</td>\n",
       "    </tr>\n",
       "    <tr>\n",
       "      <th>5</th>\n",
       "      <td>population</td>\n",
       "      <td>1425.476744</td>\n",
       "      <td>1166.0000</td>\n",
       "      <td>787.0000</td>\n",
       "      <td>1166.0000</td>\n",
       "      <td>1725.00000</td>\n",
       "    </tr>\n",
       "    <tr>\n",
       "      <th>6</th>\n",
       "      <td>households</td>\n",
       "      <td>499.539680</td>\n",
       "      <td>409.0000</td>\n",
       "      <td>280.0000</td>\n",
       "      <td>409.0000</td>\n",
       "      <td>605.00000</td>\n",
       "    </tr>\n",
       "    <tr>\n",
       "      <th>7</th>\n",
       "      <td>median_income</td>\n",
       "      <td>3.870671</td>\n",
       "      <td>3.5348</td>\n",
       "      <td>2.5634</td>\n",
       "      <td>3.5348</td>\n",
       "      <td>4.74325</td>\n",
       "    </tr>\n",
       "    <tr>\n",
       "      <th>8</th>\n",
       "      <td>median_house_value</td>\n",
       "      <td>206855.816909</td>\n",
       "      <td>179700.0000</td>\n",
       "      <td>119600.0000</td>\n",
       "      <td>179700.0000</td>\n",
       "      <td>264725.00000</td>\n",
       "    </tr>\n",
       "  </tbody>\n",
       "</table>\n",
       "</div>"
      ],
      "text/plain": [
       "              columns           mean       median           Q1           Q2  \\\n",
       "0           longitude    -119.569704    -118.4900    -121.8000    -118.4900   \n",
       "1            latitude      35.631861      34.2600      33.9300      34.2600   \n",
       "2  housing_median_age      28.639486      29.0000      18.0000      29.0000   \n",
       "3         total_rooms    2635.763081    2127.0000    1447.7500    2127.0000   \n",
       "4      total_bedrooms     537.870553     435.0000     296.0000     435.0000   \n",
       "5          population    1425.476744    1166.0000     787.0000    1166.0000   \n",
       "6          households     499.539680     409.0000     280.0000     409.0000   \n",
       "7       median_income       3.870671       3.5348       2.5634       3.5348   \n",
       "8  median_house_value  206855.816909  179700.0000  119600.0000  179700.0000   \n",
       "\n",
       "             Q3  \n",
       "0    -118.01000  \n",
       "1      37.71000  \n",
       "2      37.00000  \n",
       "3    3148.00000  \n",
       "4     647.00000  \n",
       "5    1725.00000  \n",
       "6     605.00000  \n",
       "7       4.74325  \n",
       "8  264725.00000  "
      ]
     },
     "execution_count": 482,
     "metadata": {},
     "output_type": "execute_result"
    }
   ],
   "source": [
    "def calculate_statastics(df):\n",
    "    columns=[]\n",
    "    mean = []\n",
    "    median = []\n",
    "    Q1 = []\n",
    "    Q2 = []\n",
    "    Q3 = []\n",
    "    for i in df.select_dtypes(np.number):\n",
    "        columns.append(i)\n",
    "        mean.append(df[i].mean())\n",
    "        median.append(df[i].median())\n",
    "        Q1.append(df[i].quantile(.25))\n",
    "        Q2.append(df[i].quantile(.50))\n",
    "        Q3.append(df[i].quantile(.75))\n",
    "    return (pd.DataFrame({\"columns\":columns,\"mean\":mean,\"median\":median,\"Q1\":Q1,\"Q2\":Q2,\"Q3\":Q3}))\n",
    "   \n",
    "data=pd.read_csv(\"housing.csv\")\n",
    "calculate_statastics(data)"
   ]
  },
  {
   "cell_type": "code",
   "execution_count": 483,
   "id": "e31dc94b-d27c-4072-92cc-6b081bcf9e88",
   "metadata": {},
   "outputs": [],
   "source": [
    "data=[1,2,3,4,5,6,7,8,9,10]\n",
    "df1=pd.DataFrame(data)"
   ]
  },
  {
   "cell_type": "code",
   "execution_count": 484,
   "id": "b2bc4098-2391-4a43-8908-4667df3cbf3e",
   "metadata": {},
   "outputs": [
    {
     "data": {
      "text/plain": [
       "0    3.25\n",
       "Name: 0.25, dtype: float64"
      ]
     },
     "execution_count": 484,
     "metadata": {},
     "output_type": "execute_result"
    }
   ],
   "source": [
    "df1.quantile(.25)"
   ]
  },
  {
   "cell_type": "code",
   "execution_count": 485,
   "id": "55ecc1a8-2564-49ac-9146-bfb5e6d566ce",
   "metadata": {},
   "outputs": [
    {
     "data": {
      "text/plain": [
       "0    5.5\n",
       "Name: 0.5, dtype: float64"
      ]
     },
     "execution_count": 485,
     "metadata": {},
     "output_type": "execute_result"
    }
   ],
   "source": [
    "df1.quantile(.50)"
   ]
  },
  {
   "cell_type": "code",
   "execution_count": 486,
   "id": "6f0b64d9-820b-4805-a1d6-42b9fc65f9a8",
   "metadata": {},
   "outputs": [
    {
     "data": {
      "text/plain": [
       "0    7.75\n",
       "Name: 0.75, dtype: float64"
      ]
     },
     "execution_count": 486,
     "metadata": {},
     "output_type": "execute_result"
    }
   ],
   "source": [
    "df1.quantile(.75)"
   ]
  },
  {
   "cell_type": "markdown",
   "id": "3ffb2206-0264-4193-9afe-a8139108f8cd",
   "metadata": {},
   "source": [
    "# STANDARD DEVIATION"
   ]
  },
  {
   "cell_type": "markdown",
   "id": "f72beecd-9d0c-4723-a6e0-eca3d1e642a9",
   "metadata": {},
   "source": [
    "###  A teacher wants to analyze the performance of two different classes (Class A and Class B) in a mathematics test graded out of 100 to determine which class has more consistent scores. The teacher has the following data:\n",
    "\n",
    "### Class A Scores (out of 100): 78, 82, 85, 88, 90\n",
    "\n",
    "### Class B Scores (out of 100): 55, 70, 85, 95, 100"
   ]
  },
  {
   "cell_type": "code",
   "execution_count": 487,
   "id": "a0c9750e-19a3-4a6e-a209-173b9fd4b82f",
   "metadata": {},
   "outputs": [],
   "source": [
    "CLASSA=[78,82,85,88,90]"
   ]
  },
  {
   "cell_type": "code",
   "execution_count": 488,
   "id": "8df84a00-cfda-4107-8a99-14bfca8d9274",
   "metadata": {},
   "outputs": [],
   "source": [
    "DA=pd.DataFrame(CLASSA)"
   ]
  },
  {
   "cell_type": "code",
   "execution_count": 489,
   "id": "3317cc8c-6ef0-4aa4-9eee-5cb8ba52c01e",
   "metadata": {},
   "outputs": [
    {
     "data": {
      "text/html": [
       "<div>\n",
       "<style scoped>\n",
       "    .dataframe tbody tr th:only-of-type {\n",
       "        vertical-align: middle;\n",
       "    }\n",
       "\n",
       "    .dataframe tbody tr th {\n",
       "        vertical-align: top;\n",
       "    }\n",
       "\n",
       "    .dataframe thead th {\n",
       "        text-align: right;\n",
       "    }\n",
       "</style>\n",
       "<table border=\"1\" class=\"dataframe\">\n",
       "  <thead>\n",
       "    <tr style=\"text-align: right;\">\n",
       "      <th></th>\n",
       "      <th>0</th>\n",
       "    </tr>\n",
       "  </thead>\n",
       "  <tbody>\n",
       "    <tr>\n",
       "      <th>0</th>\n",
       "      <td>78</td>\n",
       "    </tr>\n",
       "    <tr>\n",
       "      <th>1</th>\n",
       "      <td>82</td>\n",
       "    </tr>\n",
       "    <tr>\n",
       "      <th>2</th>\n",
       "      <td>85</td>\n",
       "    </tr>\n",
       "    <tr>\n",
       "      <th>3</th>\n",
       "      <td>88</td>\n",
       "    </tr>\n",
       "    <tr>\n",
       "      <th>4</th>\n",
       "      <td>90</td>\n",
       "    </tr>\n",
       "  </tbody>\n",
       "</table>\n",
       "</div>"
      ],
      "text/plain": [
       "    0\n",
       "0  78\n",
       "1  82\n",
       "2  85\n",
       "3  88\n",
       "4  90"
      ]
     },
     "execution_count": 489,
     "metadata": {},
     "output_type": "execute_result"
    }
   ],
   "source": [
    "DA"
   ]
  },
  {
   "cell_type": "code",
   "execution_count": 490,
   "id": "9b13f267-c916-4bbe-8293-dcf203c31cef",
   "metadata": {},
   "outputs": [
    {
     "name": "stderr",
     "output_type": "stream",
     "text": [
      "C:\\Users\\HP\\anaconda3\\Lib\\site-packages\\numpy\\core\\fromnumeric.py:3643: FutureWarning: The behavior of DataFrame.std with axis=None is deprecated, in a future version this will reduce over both axes and return a scalar. To retain the old behavior, pass axis=0 (or do not pass axis)\n",
      "  return std(axis=axis, dtype=dtype, out=out, ddof=ddof, **kwargs)\n"
     ]
    },
    {
     "data": {
      "text/plain": [
       "0    4.270831\n",
       "dtype: float64"
      ]
     },
     "execution_count": 490,
     "metadata": {},
     "output_type": "execute_result"
    }
   ],
   "source": [
    "np.std(DA)"
   ]
  },
  {
   "cell_type": "code",
   "execution_count": 491,
   "id": "f14bd555-0249-4bed-ba45-d5bfdcb3927b",
   "metadata": {},
   "outputs": [],
   "source": [
    "CLASSB=[55, 70, 85, 95, 100]"
   ]
  },
  {
   "cell_type": "code",
   "execution_count": 492,
   "id": "4b2c344a-202c-46a2-a3cb-f49fae6674e1",
   "metadata": {},
   "outputs": [],
   "source": [
    "DB=pd.DataFrame(CLASSB)"
   ]
  },
  {
   "cell_type": "code",
   "execution_count": 493,
   "id": "545a8411-6eeb-48b7-a06c-387bcf74c9dc",
   "metadata": {},
   "outputs": [
    {
     "data": {
      "text/html": [
       "<div>\n",
       "<style scoped>\n",
       "    .dataframe tbody tr th:only-of-type {\n",
       "        vertical-align: middle;\n",
       "    }\n",
       "\n",
       "    .dataframe tbody tr th {\n",
       "        vertical-align: top;\n",
       "    }\n",
       "\n",
       "    .dataframe thead th {\n",
       "        text-align: right;\n",
       "    }\n",
       "</style>\n",
       "<table border=\"1\" class=\"dataframe\">\n",
       "  <thead>\n",
       "    <tr style=\"text-align: right;\">\n",
       "      <th></th>\n",
       "      <th>0</th>\n",
       "    </tr>\n",
       "  </thead>\n",
       "  <tbody>\n",
       "    <tr>\n",
       "      <th>0</th>\n",
       "      <td>55</td>\n",
       "    </tr>\n",
       "    <tr>\n",
       "      <th>1</th>\n",
       "      <td>70</td>\n",
       "    </tr>\n",
       "    <tr>\n",
       "      <th>2</th>\n",
       "      <td>85</td>\n",
       "    </tr>\n",
       "    <tr>\n",
       "      <th>3</th>\n",
       "      <td>95</td>\n",
       "    </tr>\n",
       "    <tr>\n",
       "      <th>4</th>\n",
       "      <td>100</td>\n",
       "    </tr>\n",
       "  </tbody>\n",
       "</table>\n",
       "</div>"
      ],
      "text/plain": [
       "     0\n",
       "0   55\n",
       "1   70\n",
       "2   85\n",
       "3   95\n",
       "4  100"
      ]
     },
     "execution_count": 493,
     "metadata": {},
     "output_type": "execute_result"
    }
   ],
   "source": [
    "DB"
   ]
  },
  {
   "cell_type": "code",
   "execution_count": 494,
   "id": "4129cc57-707f-4af2-901c-7e1808ee07b6",
   "metadata": {},
   "outputs": [
    {
     "name": "stderr",
     "output_type": "stream",
     "text": [
      "C:\\Users\\HP\\anaconda3\\Lib\\site-packages\\numpy\\core\\fromnumeric.py:3643: FutureWarning: The behavior of DataFrame.std with axis=None is deprecated, in a future version this will reduce over both axes and return a scalar. To retain the old behavior, pass axis=0 (or do not pass axis)\n",
      "  return std(axis=axis, dtype=dtype, out=out, ddof=ddof, **kwargs)\n"
     ]
    },
    {
     "data": {
      "text/plain": [
       "0    16.552945\n",
       "dtype: float64"
      ]
     },
     "execution_count": 494,
     "metadata": {},
     "output_type": "execute_result"
    }
   ],
   "source": [
    "np.std(DB)"
   ]
  },
  {
   "cell_type": "markdown",
   "id": "5009fc59-4a58-4486-9f48-6c7c1be69b0b",
   "metadata": {},
   "source": [
    "## * Class A has a smaller standard deviation (4.27), indicating that the scores are more tightly grouped around the mean. This shows greater consistency in performance.\n",
    "## * Class B has a larger standard deviation (16.55), meaning the scores are more spread out, reflecting less consistent performance."
   ]
  },
  {
   "cell_type": "markdown",
   "id": "981a7fbc-68f3-4a96-b1f3-01d14808fbdd",
   "metadata": {},
   "source": [
    "# Coefficient of Variation\n",
    "* The Coefficient of Variation (CV) is a statistical measure used to assess the relative variability of a dataset or a distribution. \n",
    "* It expresses the standard deviation as a percentage of the mean\n",
    "* Instead of just looking at the absolute spread of values (like std), it looks at this spread relative to the size of the mean\n",
    "* It is a standardized, unitless measure that allows you to compare variability between disparate groups and characteristics. It is also known as the relative standard deviation (RSD).\n",
    "\n",
    "\n",
    "* compare the variability in SAT scores to ACT scores? While these college entrance exams are similar in nature and purpose, they use different scales. Consequently, you can’t compare their standard deviations directly.\n",
    "* However, the coefficient of variation standardizes the raw data, which means you can compare the relative variability of SAT and ACT scores."
   ]
  },
  {
   "cell_type": "markdown",
   "id": "a02a2601-e64b-434d-981a-35f4ad2dc8c9",
   "metadata": {},
   "source": [
    "####  1.Two companies, A and B, report the monthly salaries of 5 employees each:\n",
    "#### Company A salaries: [4800, 5200, 5000, 5100, 4900]\n",
    "####  Company B salaries: [8000, 12000, 10000, 11000, 9000]\n",
    "#### Which company has greater relative variability in salaries?"
   ]
  },
  {
   "cell_type": "code",
   "execution_count": 495,
   "id": "f425798b-5b3f-41ac-8f6a-33d88984416b",
   "metadata": {},
   "outputs": [],
   "source": [
    "COMPANY_A_SALARIES=[4800,5200,5000,5100,4900]"
   ]
  },
  {
   "cell_type": "code",
   "execution_count": 496,
   "id": "d474b922-9d1c-46d8-8ebb-f87fc17bcb4d",
   "metadata": {},
   "outputs": [
    {
     "data": {
      "text/plain": [
       "141.4213562373095"
      ]
     },
     "execution_count": 496,
     "metadata": {},
     "output_type": "execute_result"
    }
   ],
   "source": [
    "np.std(COMPANY_A_SALARIES)"
   ]
  },
  {
   "cell_type": "code",
   "execution_count": 497,
   "id": "42b75a7f-4aa6-44b5-ae14-cfaade9ecfdd",
   "metadata": {},
   "outputs": [
    {
     "data": {
      "text/plain": [
       "5000.0"
      ]
     },
     "execution_count": 497,
     "metadata": {},
     "output_type": "execute_result"
    }
   ],
   "source": [
    "np.mean(COMPANY_A_SALARIES)"
   ]
  },
  {
   "cell_type": "code",
   "execution_count": 498,
   "id": "be798711-e5a6-4d43-84f2-af7b6e345df3",
   "metadata": {},
   "outputs": [],
   "source": [
    "cv=np.std(COMPANY_A_SALARIES)/np.mean(COMPANY_A_SALARIES)*100"
   ]
  },
  {
   "cell_type": "code",
   "execution_count": 499,
   "id": "329503f9-7fb4-4b23-a45a-15f86a42451f",
   "metadata": {},
   "outputs": [
    {
     "data": {
      "text/plain": [
       "2.8284271247461903"
      ]
     },
     "execution_count": 499,
     "metadata": {},
     "output_type": "execute_result"
    }
   ],
   "source": [
    "cv"
   ]
  },
  {
   "cell_type": "markdown",
   "id": "b912b065-bf1b-42c1-9a57-6b49283d3b8a",
   "metadata": {},
   "source": [
    "### Company A: The CV is much smaller (2.83%), indicating that the salaries are highly consistent relative to the mean."
   ]
  },
  {
   "cell_type": "code",
   "execution_count": 500,
   "id": "1ee02375-0b37-48b4-a5a3-edb94ab480c9",
   "metadata": {},
   "outputs": [],
   "source": [
    "COMPANY_B_SALARIES=[8000,12000,10000,11000,9000]"
   ]
  },
  {
   "cell_type": "code",
   "execution_count": 501,
   "id": "2d72733e-ea18-4e7c-b639-32239f31536e",
   "metadata": {},
   "outputs": [
    {
     "data": {
      "text/plain": [
       "1414.213562373095"
      ]
     },
     "execution_count": 501,
     "metadata": {},
     "output_type": "execute_result"
    }
   ],
   "source": [
    "np.std(COMPANY_B_SALARIES)"
   ]
  },
  {
   "cell_type": "code",
   "execution_count": 502,
   "id": "1ceee205-9cfc-41ba-82e2-0294a7471c9d",
   "metadata": {},
   "outputs": [
    {
     "data": {
      "text/plain": [
       "10000.0"
      ]
     },
     "execution_count": 502,
     "metadata": {},
     "output_type": "execute_result"
    }
   ],
   "source": [
    "np.mean(COMPANY_B_SALARIES)"
   ]
  },
  {
   "cell_type": "code",
   "execution_count": 503,
   "id": "7ac088e4-9aef-4d01-892b-86f0772c27c3",
   "metadata": {},
   "outputs": [],
   "source": [
    "cv=np.std(COMPANY_B_SALARIES)/np.mean(COMPANY_B_SALARIES)*100"
   ]
  },
  {
   "cell_type": "code",
   "execution_count": 504,
   "id": "b611c1a7-cc24-4fef-82f6-898a5227aa79",
   "metadata": {},
   "outputs": [
    {
     "data": {
      "text/plain": [
       "14.142135623730951"
      ]
     },
     "execution_count": 504,
     "metadata": {},
     "output_type": "execute_result"
    }
   ],
   "source": [
    "cv"
   ]
  },
  {
   "cell_type": "markdown",
   "id": "322064be-aaa6-4903-94ef-fec72577f578",
   "metadata": {},
   "source": [
    "## Company B: The CV is significantly larger (14.14%), showing a greater relative variation in salaries."
   ]
  },
  {
   "cell_type": "markdown",
   "id": "896d03ac-b300-45f2-bcc2-429f26a0d6e8",
   "metadata": {},
   "source": [
    "## Salaries in Company A are more consistent, while Company B shows higher variability in employee salaries compared to the mean."
   ]
  },
  {
   "cell_type": "code",
   "execution_count": null,
   "id": "2aa5df07-4e85-4666-899b-4dd5f0cfcdd5",
   "metadata": {},
   "outputs": [],
   "source": []
  },
  {
   "cell_type": "markdown",
   "id": "30bb0326-9fcf-47c7-ad35-f00ca5baaa00",
   "metadata": {},
   "source": [
    "####  2.Two factories produce packets of sugar with the following weights (in grams):\n",
    "####  factory X=[998,1002,1000,999,1001]\n",
    "#### factoryY=[995,1005,990,1010,1000]\n",
    "#### Which factory has more consistent packet weights?s?¶s?¶"
   ]
  },
  {
   "cell_type": "code",
   "execution_count": 505,
   "id": "4944d2b1-097b-4740-a99a-ba797b8959a3",
   "metadata": {},
   "outputs": [],
   "source": [
    "factoryX=[998,1002,1000,999,1001]"
   ]
  },
  {
   "cell_type": "code",
   "execution_count": 506,
   "id": "fb8f56f9-93f0-4edb-9531-20e8bf00a2bb",
   "metadata": {},
   "outputs": [
    {
     "data": {
      "text/plain": [
       "1000.0"
      ]
     },
     "execution_count": 506,
     "metadata": {},
     "output_type": "execute_result"
    }
   ],
   "source": [
    "np.mean(factoryX)"
   ]
  },
  {
   "cell_type": "code",
   "execution_count": 507,
   "id": "bda18bdf-c3dc-4472-b613-2d256bd5f7a3",
   "metadata": {},
   "outputs": [
    {
     "data": {
      "text/plain": [
       "1.4142135623730951"
      ]
     },
     "execution_count": 507,
     "metadata": {},
     "output_type": "execute_result"
    }
   ],
   "source": [
    "np.std(factoryX)"
   ]
  },
  {
   "cell_type": "code",
   "execution_count": 508,
   "id": "f4cf6223-86ec-4b8b-9af3-2fb275775024",
   "metadata": {},
   "outputs": [
    {
     "data": {
      "text/plain": [
       "0.14142135623730953"
      ]
     },
     "execution_count": 508,
     "metadata": {},
     "output_type": "execute_result"
    }
   ],
   "source": [
    "cv=np.std(factoryX)/np.mean(factoryX)*100\n",
    "cv"
   ]
  },
  {
   "cell_type": "code",
   "execution_count": 509,
   "id": "d3ef5927-45b5-4a61-b6e2-c058e51140a2",
   "metadata": {},
   "outputs": [],
   "source": [
    "factoryY=[995,1005,990,1010,1000]"
   ]
  },
  {
   "cell_type": "code",
   "execution_count": 510,
   "id": "8ebf44a8-6e6b-4621-9a58-72167685d88b",
   "metadata": {},
   "outputs": [
    {
     "data": {
      "text/plain": [
       "1000.0"
      ]
     },
     "execution_count": 510,
     "metadata": {},
     "output_type": "execute_result"
    }
   ],
   "source": [
    "np.mean(factoryY)"
   ]
  },
  {
   "cell_type": "code",
   "execution_count": 511,
   "id": "09cac94c-e016-47e9-bed3-ba31dabd4ff0",
   "metadata": {},
   "outputs": [
    {
     "data": {
      "text/plain": [
       "7.0710678118654755"
      ]
     },
     "execution_count": 511,
     "metadata": {},
     "output_type": "execute_result"
    }
   ],
   "source": [
    "np.std(factoryY)"
   ]
  },
  {
   "cell_type": "code",
   "execution_count": 512,
   "id": "01f66d65-2e9b-4cc4-900e-bf3c7f0ea156",
   "metadata": {},
   "outputs": [
    {
     "data": {
      "text/plain": [
       "0.7071067811865476"
      ]
     },
     "execution_count": 512,
     "metadata": {},
     "output_type": "execute_result"
    }
   ],
   "source": [
    "cv=np.std(factoryY)/np.mean(factoryY)*100\n",
    "cv"
   ]
  },
  {
   "cell_type": "code",
   "execution_count": null,
   "id": "69ce6e3f-b4b2-40ca-b460-2953a054cec0",
   "metadata": {},
   "outputs": [],
   "source": []
  },
  {
   "cell_type": "markdown",
   "id": "03319e8a-6087-486f-93cd-574ddbd39025",
   "metadata": {},
   "source": [
    "# *Coefficient of Variation*"
   ]
  },
  {
   "cell_type": "markdown",
   "id": "897233b1-4e18-4c56-a5b3-4d14f290870a",
   "metadata": {},
   "source": [
    "# Employee Performance:\n",
    "### Question: Compare the variability in monthly sales (in $1000s) between two sales teams using CV. Which team has more consistent performance?\n",
    "### Data:\n",
    "### Team A: [50, 55, 48, 60, 53, 51, 59, 52]\n",
    "### Team B: [70, 80, 75, 90, 85, 95, 72, 78]\n"
   ]
  },
  {
   "cell_type": "code",
   "execution_count": 513,
   "id": "4bb891f6-2f06-4e43-87c4-a2b56a8c6bf4",
   "metadata": {},
   "outputs": [],
   "source": [
    "Team_A=[50,55,48,60,53,51,59,52]\n"
   ]
  },
  {
   "cell_type": "code",
   "execution_count": 514,
   "id": "7548ddf4-cdb4-4725-971a-dc140b37c33d",
   "metadata": {},
   "outputs": [
    {
     "data": {
      "text/plain": [
       "7.417994330087637"
      ]
     },
     "execution_count": 514,
     "metadata": {},
     "output_type": "execute_result"
    }
   ],
   "source": [
    "CVA=np.std(Team_A)/np.mean(Team_A)*100\n",
    "CVA"
   ]
  },
  {
   "cell_type": "code",
   "execution_count": 515,
   "id": "bc5f4124-9158-4229-bfc9-5b974065c736",
   "metadata": {},
   "outputs": [],
   "source": [
    "Team_B=[70, 80, 75, 90, 85, 95, 72, 78]"
   ]
  },
  {
   "cell_type": "code",
   "execution_count": 516,
   "id": "511e3ee4-4f33-4bcd-a363-f175223b18b8",
   "metadata": {},
   "outputs": [
    {
     "data": {
      "text/plain": [
       "10.189007628308685"
      ]
     },
     "execution_count": 516,
     "metadata": {},
     "output_type": "execute_result"
    }
   ],
   "source": [
    "CVB=np.std(Team_B)/np.mean(Team_B)*100\n",
    "CVB"
   ]
  },
  {
   "cell_type": "markdown",
   "id": "a3c8f1c1-34dd-4e17-b438-67f1db5e22ae",
   "metadata": {},
   "source": [
    "### Interpretation:\n",
    "#### The CV represents the relative variability of sales as a percentage of the mean.\n",
    "\n",
    "* Team A has a lower CV, indicating more consistent performance in monthly sales.\n",
    "* Team B has a higher CV, suggesting greater variability in their sales performance.\n",
    "#### Thus, Team A is more consistent in their monthly sales compared to Team B."
   ]
  },
  {
   "cell_type": "code",
   "execution_count": null,
   "id": "89102e5c-748b-41a9-be05-627402be0867",
   "metadata": {},
   "outputs": [],
   "source": []
  },
  {
   "cell_type": "markdown",
   "id": "6d99dc05-84cf-4df6-9bf4-027923b249ac",
   "metadata": {},
   "source": [
    "# Market Analysis:\n",
    "\n",
    "### Question: Two stocks are being monitored for investment. Compare the variability in their weekly returns (%) using CV to determine which stock is more stable.\n",
    "### Data:\n",
    "### Stock A: [2.5, 2.7, 2.9, 2.6, 2.8, 3.0, 2.4]\n",
    "### Stock B: [1.2, 1.8, 1.5, 1.7, 1.6, 1.4, 1.3]\n"
   ]
  },
  {
   "cell_type": "code",
   "execution_count": 517,
   "id": "0ecd753b-e6b1-43aa-b68f-6376df814e85",
   "metadata": {},
   "outputs": [],
   "source": [
    "Stock_A=[2.5, 2.7, 2.9, 2.6, 2.8, 3.0, 2.4]"
   ]
  },
  {
   "cell_type": "code",
   "execution_count": 518,
   "id": "99d8c6db-8e0a-4172-85e1-5b054f685f68",
   "metadata": {},
   "outputs": [],
   "source": [
    "Stock_B=[1.2, 1.8, 1.5, 1.7, 1.6, 1.4, 1.3]"
   ]
  },
  {
   "cell_type": "code",
   "execution_count": 519,
   "id": "5e5cfd16-8584-44d6-89d7-6772626e68a3",
   "metadata": {},
   "outputs": [
    {
     "data": {
      "text/plain": [
       "7.4074074074074066"
      ]
     },
     "execution_count": 519,
     "metadata": {},
     "output_type": "execute_result"
    }
   ],
   "source": [
    "CVA=np.std(Stock_A)/np.mean(Stock_A)*100\n",
    "CVA"
   ]
  },
  {
   "cell_type": "code",
   "execution_count": 520,
   "id": "b2b4316a-6176-461e-b283-42cfa78cb8c1",
   "metadata": {},
   "outputs": [
    {
     "data": {
      "text/plain": [
       "13.333333333333334"
      ]
     },
     "execution_count": 520,
     "metadata": {},
     "output_type": "execute_result"
    }
   ],
   "source": [
    "CVB=np.std(Stock_B)/np.mean(Stock_B)*100\n",
    "CVB"
   ]
  },
  {
   "cell_type": "markdown",
   "id": "f3e0c728-0749-49aa-a5bd-43ad4deae67a",
   "metadata": {},
   "source": [
    "### Interpretation:\n",
    "### The CV indicates the relative variability in weekly returns as a percentage of the mean:\n",
    "\n",
    "* Stock A has a lower CV, showing more stability in its weekly returns.\n",
    "* Stock B has a higher CV, suggesting greater variability and less stability in its returns.\n",
    "\n",
    "### Stock A is the more stable investment option based on its consistent weekly returns compared to Stock B."
   ]
  },
  {
   "cell_type": "markdown",
   "id": "40114dd0-e5e4-4845-acc8-4bd09a8c2fe9",
   "metadata": {},
   "source": [
    "# Consumer Spending:\n",
    "\n",
    "###\tQuestion: Compare the variability in monthly grocery expenses (in $) between two households using CV to determine which household has more stable spending habits.\n",
    "###\tData:\n",
    "### Household A: [400, 420, 390, 410, 430, 400, 395]\n",
    "### Household B: [200, 250, 230, 210, 240, 220, 260]"
   ]
  },
  {
   "cell_type": "code",
   "execution_count": 521,
   "id": "189cba7d-188a-4d15-954a-c19f65efbde7",
   "metadata": {},
   "outputs": [],
   "source": [
    "Household_A=[400, 420, 390, 410, 430, 400, 395]"
   ]
  },
  {
   "cell_type": "code",
   "execution_count": 522,
   "id": "aa263524-0c7e-4bc5-8d9e-859a1b3aa257",
   "metadata": {},
   "outputs": [],
   "source": [
    "Household_B=[200, 250, 230, 210, 240, 220, 260]"
   ]
  },
  {
   "cell_type": "code",
   "execution_count": 523,
   "id": "139e50a4-386e-4ef8-a599-a3352fca2bce",
   "metadata": {},
   "outputs": [
    {
     "data": {
      "text/plain": [
       "3.2690817641016294"
      ]
     },
     "execution_count": 523,
     "metadata": {},
     "output_type": "execute_result"
    }
   ],
   "source": [
    "CVA=np.std(Household_A)/np.mean(Household_A)*100\n",
    "CVA"
   ]
  },
  {
   "cell_type": "code",
   "execution_count": 524,
   "id": "98da5ab3-6587-4f34-a505-494c3d7b4187",
   "metadata": {},
   "outputs": [
    {
     "data": {
      "text/plain": [
       "8.695652173913043"
      ]
     },
     "execution_count": 524,
     "metadata": {},
     "output_type": "execute_result"
    }
   ],
   "source": [
    "CVB=np.std(Household_B)/np.mean(Household_B)*100\n",
    "CVB"
   ]
  },
  {
   "cell_type": "markdown",
   "id": "65e2d09b-bc88-474a-8b3d-cb1c5bf2e7b0",
   "metadata": {},
   "source": [
    "### Interpretation:\n",
    "* Household A has a much lower CV, indicating more consistent and stable monthly grocery spending.\n",
    "* Household B shows a higher CV, suggesting greater variability in their monthly expenses.\n",
    "\n",
    "### Household A demonstrates more stable spending habits compared to Household B."
   ]
  },
  {
   "cell_type": "code",
   "execution_count": null,
   "id": "2eb012b8-c891-45f6-94d5-38ab928f5ec8",
   "metadata": {},
   "outputs": [],
   "source": []
  },
  {
   "cell_type": "markdown",
   "id": "b6740819-cc2c-4172-b769-636aada7fe91",
   "metadata": {},
   "source": [
    "# IQR-(INTER QUARTILE RANGE)"
   ]
  },
  {
   "cell_type": "markdown",
   "id": "ea698ab8-5778-4d3e-861f-7d2d573b9303",
   "metadata": {},
   "source": [
    "#### The IQR gives us the spread of data around the median and quantifies how much dispersion we have in the middle 50% of our distribution.\n",
    "#### It can also be useful when checking the data for outliers. \n",
    "#### In addition, the IQR can be used to calculate a unitless measure of dispersion"
   ]
  },
  {
   "cell_type": "markdown",
   "id": "e7d4f863-9a02-4039-82be-a6c72de6fbe5",
   "metadata": {},
   "source": [
    "## *  Lower Bound=Q1-1.5*IQR\n",
    "## *  Upper Bound=Q3+1.5*IQR"
   ]
  },
  {
   "cell_type": "code",
   "execution_count": 525,
   "id": "10d241d7-ccba-4928-935a-26070f06be93",
   "metadata": {},
   "outputs": [],
   "source": [
    "df=pd.read_csv(\"weight-height.csv\")"
   ]
  },
  {
   "cell_type": "code",
   "execution_count": 526,
   "id": "6697c909-4016-4467-bfc1-2b5cab8083ef",
   "metadata": {},
   "outputs": [
    {
     "data": {
      "text/html": [
       "<div>\n",
       "<style scoped>\n",
       "    .dataframe tbody tr th:only-of-type {\n",
       "        vertical-align: middle;\n",
       "    }\n",
       "\n",
       "    .dataframe tbody tr th {\n",
       "        vertical-align: top;\n",
       "    }\n",
       "\n",
       "    .dataframe thead th {\n",
       "        text-align: right;\n",
       "    }\n",
       "</style>\n",
       "<table border=\"1\" class=\"dataframe\">\n",
       "  <thead>\n",
       "    <tr style=\"text-align: right;\">\n",
       "      <th></th>\n",
       "      <th>Gender</th>\n",
       "      <th>Height</th>\n",
       "      <th>Weight</th>\n",
       "    </tr>\n",
       "  </thead>\n",
       "  <tbody>\n",
       "    <tr>\n",
       "      <th>0</th>\n",
       "      <td>Male</td>\n",
       "      <td>73.847017</td>\n",
       "      <td>241.893563</td>\n",
       "    </tr>\n",
       "    <tr>\n",
       "      <th>1</th>\n",
       "      <td>Male</td>\n",
       "      <td>68.781904</td>\n",
       "      <td>162.310473</td>\n",
       "    </tr>\n",
       "    <tr>\n",
       "      <th>2</th>\n",
       "      <td>Male</td>\n",
       "      <td>74.110105</td>\n",
       "      <td>212.740856</td>\n",
       "    </tr>\n",
       "    <tr>\n",
       "      <th>3</th>\n",
       "      <td>Male</td>\n",
       "      <td>71.730978</td>\n",
       "      <td>220.042470</td>\n",
       "    </tr>\n",
       "    <tr>\n",
       "      <th>4</th>\n",
       "      <td>Male</td>\n",
       "      <td>69.881796</td>\n",
       "      <td>206.349801</td>\n",
       "    </tr>\n",
       "    <tr>\n",
       "      <th>...</th>\n",
       "      <td>...</td>\n",
       "      <td>...</td>\n",
       "      <td>...</td>\n",
       "    </tr>\n",
       "    <tr>\n",
       "      <th>9995</th>\n",
       "      <td>Female</td>\n",
       "      <td>66.172652</td>\n",
       "      <td>136.777454</td>\n",
       "    </tr>\n",
       "    <tr>\n",
       "      <th>9996</th>\n",
       "      <td>Female</td>\n",
       "      <td>67.067155</td>\n",
       "      <td>170.867906</td>\n",
       "    </tr>\n",
       "    <tr>\n",
       "      <th>9997</th>\n",
       "      <td>Female</td>\n",
       "      <td>63.867992</td>\n",
       "      <td>128.475319</td>\n",
       "    </tr>\n",
       "    <tr>\n",
       "      <th>9998</th>\n",
       "      <td>Female</td>\n",
       "      <td>69.034243</td>\n",
       "      <td>163.852461</td>\n",
       "    </tr>\n",
       "    <tr>\n",
       "      <th>9999</th>\n",
       "      <td>Female</td>\n",
       "      <td>61.944246</td>\n",
       "      <td>113.649103</td>\n",
       "    </tr>\n",
       "  </tbody>\n",
       "</table>\n",
       "<p>10000 rows × 3 columns</p>\n",
       "</div>"
      ],
      "text/plain": [
       "      Gender     Height      Weight\n",
       "0       Male  73.847017  241.893563\n",
       "1       Male  68.781904  162.310473\n",
       "2       Male  74.110105  212.740856\n",
       "3       Male  71.730978  220.042470\n",
       "4       Male  69.881796  206.349801\n",
       "...      ...        ...         ...\n",
       "9995  Female  66.172652  136.777454\n",
       "9996  Female  67.067155  170.867906\n",
       "9997  Female  63.867992  128.475319\n",
       "9998  Female  69.034243  163.852461\n",
       "9999  Female  61.944246  113.649103\n",
       "\n",
       "[10000 rows x 3 columns]"
      ]
     },
     "execution_count": 526,
     "metadata": {},
     "output_type": "execute_result"
    }
   ],
   "source": [
    "df"
   ]
  },
  {
   "cell_type": "code",
   "execution_count": 527,
   "id": "adefc87e-1010-4276-a4ad-cb365a1535df",
   "metadata": {},
   "outputs": [
    {
     "data": {
      "text/plain": [
       "66.36755975482124"
      ]
     },
     "execution_count": 527,
     "metadata": {},
     "output_type": "execute_result"
    }
   ],
   "source": [
    "meanH=np.mean(df[\"Height\"])\n",
    "meanH"
   ]
  },
  {
   "cell_type": "code",
   "execution_count": 528,
   "id": "598426fe-3a31-4f16-8db4-48a09df38b3c",
   "metadata": {},
   "outputs": [
    {
     "data": {
      "text/plain": [
       "161.44035683283076"
      ]
     },
     "execution_count": 528,
     "metadata": {},
     "output_type": "execute_result"
    }
   ],
   "source": [
    "meanW=np.mean(df[\"Weight\"])\n",
    "meanW"
   ]
  },
  {
   "cell_type": "code",
   "execution_count": 529,
   "id": "840fecbc-84a0-458d-b36e-79ebf4519cbe",
   "metadata": {},
   "outputs": [
    {
     "data": {
      "text/plain": [
       "66.31807008178464"
      ]
     },
     "execution_count": 529,
     "metadata": {},
     "output_type": "execute_result"
    }
   ],
   "source": [
    "medianH=np.median(df[\"Height\"])\n",
    "medianH"
   ]
  },
  {
   "cell_type": "code",
   "execution_count": 530,
   "id": "5bde5de9-563f-43ab-97b0-10f2abf09fda",
   "metadata": {},
   "outputs": [
    {
     "data": {
      "text/plain": [
       "161.21292769948298"
      ]
     },
     "execution_count": 530,
     "metadata": {},
     "output_type": "execute_result"
    }
   ],
   "source": [
    "medianW=np.median(df[\"Weight\"])\n",
    "medianW"
   ]
  },
  {
   "cell_type": "code",
   "execution_count": 531,
   "id": "3aff0c71-2b94-4ead-a483-81437cc80073",
   "metadata": {},
   "outputs": [
    {
     "data": {
      "text/html": [
       "<div>\n",
       "<style scoped>\n",
       "    .dataframe tbody tr th:only-of-type {\n",
       "        vertical-align: middle;\n",
       "    }\n",
       "\n",
       "    .dataframe tbody tr th {\n",
       "        vertical-align: top;\n",
       "    }\n",
       "\n",
       "    .dataframe thead th {\n",
       "        text-align: right;\n",
       "    }\n",
       "</style>\n",
       "<table border=\"1\" class=\"dataframe\">\n",
       "  <thead>\n",
       "    <tr style=\"text-align: right;\">\n",
       "      <th></th>\n",
       "      <th>columns</th>\n",
       "      <th>mean</th>\n",
       "      <th>median</th>\n",
       "      <th>Q1</th>\n",
       "      <th>Q2</th>\n",
       "      <th>Q3</th>\n",
       "      <th>std</th>\n",
       "      <th>Variance</th>\n",
       "      <th>CV</th>\n",
       "      <th>IQR</th>\n",
       "    </tr>\n",
       "  </thead>\n",
       "  <tbody>\n",
       "    <tr>\n",
       "      <th>0</th>\n",
       "      <td>Height</td>\n",
       "      <td>66.367560</td>\n",
       "      <td>66.318070</td>\n",
       "      <td>63.505620</td>\n",
       "      <td>66.318070</td>\n",
       "      <td>69.174262</td>\n",
       "      <td>3.847528</td>\n",
       "      <td>14.803473</td>\n",
       "      <td>0.057973</td>\n",
       "      <td>5.668641</td>\n",
       "    </tr>\n",
       "    <tr>\n",
       "      <th>1</th>\n",
       "      <td>Weight</td>\n",
       "      <td>161.440357</td>\n",
       "      <td>161.212928</td>\n",
       "      <td>135.818051</td>\n",
       "      <td>161.212928</td>\n",
       "      <td>187.169525</td>\n",
       "      <td>32.108439</td>\n",
       "      <td>1030.951855</td>\n",
       "      <td>0.198887</td>\n",
       "      <td>51.351474</td>\n",
       "    </tr>\n",
       "  </tbody>\n",
       "</table>\n",
       "</div>"
      ],
      "text/plain": [
       "  columns        mean      median          Q1          Q2          Q3  \\\n",
       "0  Height   66.367560   66.318070   63.505620   66.318070   69.174262   \n",
       "1  Weight  161.440357  161.212928  135.818051  161.212928  187.169525   \n",
       "\n",
       "         std     Variance        CV        IQR  \n",
       "0   3.847528    14.803473  0.057973   5.668641  \n",
       "1  32.108439  1030.951855  0.198887  51.351474  "
      ]
     },
     "execution_count": 531,
     "metadata": {},
     "output_type": "execute_result"
    }
   ],
   "source": [
    "def calculate_statastics(df):\n",
    "    columns=[]\n",
    "    mean = []\n",
    "    median = []\n",
    "    Q1 = []\n",
    "    Q2 = []\n",
    "    Q3 = []\n",
    "    std = []          \n",
    "    variance = []      \n",
    "    CV = []           \n",
    "    IQR = [] \n",
    "    for i in df.select_dtypes(np.number):\n",
    "        columns.append(i)\n",
    "        mean.append(df[i].mean())\n",
    "        median.append(df[i].median())\n",
    "        Q1.append(df[i].quantile(.25))\n",
    "        Q2.append(df[i].quantile(.50))\n",
    "        Q3.append(df[i].quantile(.75))\n",
    "        std.append(df[i].std())  \n",
    "        variance.append(df[i].var())  \n",
    "        CV.append(df[i].std() / df[i].mean())\n",
    "        IQR.append(df[i].quantile(0.75) - df[i].quantile(0.25)) \n",
    "    return (pd.DataFrame({\"columns\":columns,\"mean\":mean,\"median\":median,\"Q1\":Q1,\"Q2\":Q2,\"Q3\":Q3,\"std\": std,\"Variance\": variance,\"CV\": CV,\"IQR\": IQR}))\n",
    "   \n",
    "data=pd.read_csv(\"weight-height.csv\")\n",
    "calculate_statastics(data)"
   ]
  },
  {
   "cell_type": "code",
   "execution_count": 532,
   "id": "d673feee-f35b-42c9-97c3-0b53270ee211",
   "metadata": {},
   "outputs": [
    {
     "data": {
      "text/plain": [
       "205.289571792353"
      ]
     },
     "execution_count": 532,
     "metadata": {},
     "output_type": "execute_result"
    }
   ],
   "source": [
    "rangeW=(df[\"Weight\"]).max()-(df[\"Weight\"]).min()\n",
    "rangeW"
   ]
  },
  {
   "cell_type": "code",
   "execution_count": 533,
   "id": "68620fdb-f51b-483a-bd29-733d8a8efb55",
   "metadata": {},
   "outputs": [
    {
     "data": {
      "text/plain": [
       "24.735609021292504"
      ]
     },
     "execution_count": 533,
     "metadata": {},
     "output_type": "execute_result"
    }
   ],
   "source": [
    "rangeH=(df[\"Height\"]).max()-(df[\"Height\"]).min()\n",
    "rangeH"
   ]
  },
  {
   "cell_type": "code",
   "execution_count": 534,
   "id": "4fedd9f9-47f8-4716-93a2-095e9ee6b19b",
   "metadata": {},
   "outputs": [
    {
     "data": {
      "text/plain": [
       "14.801992292876786"
      ]
     },
     "execution_count": 534,
     "metadata": {},
     "output_type": "execute_result"
    }
   ],
   "source": [
    "VarianceH=np.var(df[\"Height\"])\n",
    "VarianceH"
   ]
  },
  {
   "cell_type": "code",
   "execution_count": 535,
   "id": "14c72e72-e682-4e4e-9352-7213824c3632",
   "metadata": {},
   "outputs": [
    {
     "data": {
      "text/plain": [
       "1030.8487602498426"
      ]
     },
     "execution_count": 535,
     "metadata": {},
     "output_type": "execute_result"
    }
   ],
   "source": [
    "VarianceW=np.var(df[\"Weight\"])\n",
    "VarianceW"
   ]
  },
  {
   "cell_type": "code",
   "execution_count": 536,
   "id": "365c5be8-93d1-47af-a66b-bf823bda90cd",
   "metadata": {},
   "outputs": [
    {
     "data": {
      "text/plain": [
       "3.847335739557543"
      ]
     },
     "execution_count": 536,
     "metadata": {},
     "output_type": "execute_result"
    }
   ],
   "source": [
    "SdH=np.std(df[\"Height\"])\n",
    "SdH"
   ]
  },
  {
   "cell_type": "code",
   "execution_count": 537,
   "id": "3a63ed12-1c97-4b35-8fb0-32fca293d92c",
   "metadata": {},
   "outputs": [
    {
     "data": {
      "text/plain": [
       "32.106833544431666"
      ]
     },
     "execution_count": 537,
     "metadata": {},
     "output_type": "execute_result"
    }
   ],
   "source": [
    "SdW=np.std(df[\"Weight\"])\n",
    "SdW"
   ]
  },
  {
   "cell_type": "code",
   "execution_count": 538,
   "id": "2d5be9e5-3cf6-4b31-9a12-940c41f5d066",
   "metadata": {},
   "outputs": [
    {
     "data": {
      "text/plain": [
       "5.797012506969649"
      ]
     },
     "execution_count": 538,
     "metadata": {},
     "output_type": "execute_result"
    }
   ],
   "source": [
    "CvH=SdH/meanH*100\n",
    "CvH"
   ]
  },
  {
   "cell_type": "code",
   "execution_count": 539,
   "id": "9d01e6c5-6dc5-4b3e-9560-31218a5caedf",
   "metadata": {},
   "outputs": [
    {
     "data": {
      "text/plain": [
       "19.887736978726977"
      ]
     },
     "execution_count": 539,
     "metadata": {},
     "output_type": "execute_result"
    }
   ],
   "source": [
    "CvW=SdW/meanW*100\n",
    "CvW"
   ]
  },
  {
   "cell_type": "code",
   "execution_count": 540,
   "id": "537c7421-8d66-4d5a-8ead-a9ee08d879fb",
   "metadata": {},
   "outputs": [
    {
     "data": {
      "text/plain": [
       "135.8180513055015"
      ]
     },
     "execution_count": 540,
     "metadata": {},
     "output_type": "execute_result"
    }
   ],
   "source": [
    "WQ1=(df[\"Weight\"]).quantile(.25)\n",
    "WQ1"
   ]
  },
  {
   "cell_type": "code",
   "execution_count": 541,
   "id": "2c16921f-b3b9-47ee-a94a-e408682088cc",
   "metadata": {},
   "outputs": [
    {
     "data": {
      "text/plain": [
       "161.21292769948298"
      ]
     },
     "execution_count": 541,
     "metadata": {},
     "output_type": "execute_result"
    }
   ],
   "source": [
    "WQ2=(df[\"Weight\"]).quantile(.50)\n",
    "WQ2"
   ]
  },
  {
   "cell_type": "code",
   "execution_count": 542,
   "id": "7f1feb19-1884-4aa1-873d-89c961620552",
   "metadata": {},
   "outputs": [
    {
     "data": {
      "text/plain": [
       "187.16952486868348"
      ]
     },
     "execution_count": 542,
     "metadata": {},
     "output_type": "execute_result"
    }
   ],
   "source": [
    "WQ3=(df[\"Weight\"]).quantile(.75)\n",
    "WQ3"
   ]
  },
  {
   "cell_type": "code",
   "execution_count": 543,
   "id": "cf5830e5-d0ef-4c9d-9354-d2fa6a398ee9",
   "metadata": {},
   "outputs": [
    {
     "data": {
      "text/plain": [
       "51.35147356318197"
      ]
     },
     "execution_count": 543,
     "metadata": {},
     "output_type": "execute_result"
    }
   ],
   "source": [
    "WIQR=WQ3-WQ1\n",
    "WIQR"
   ]
  },
  {
   "cell_type": "code",
   "execution_count": 544,
   "id": "17693a12-5282-4769-878c-186a67f0a279",
   "metadata": {},
   "outputs": [
    {
     "data": {
      "text/plain": [
       "264.19673521345646"
      ]
     },
     "execution_count": 544,
     "metadata": {},
     "output_type": "execute_result"
    }
   ],
   "source": [
    "weight_upper_bound=WQ3+1.5*WIQR\n",
    "weight_upper_bound"
   ]
  },
  {
   "cell_type": "code",
   "execution_count": 545,
   "id": "86e04b78-1d77-45ee-8563-3b5eca06e697",
   "metadata": {},
   "outputs": [
    {
     "data": {
      "text/plain": [
       "58.79084096072856"
      ]
     },
     "execution_count": 545,
     "metadata": {},
     "output_type": "execute_result"
    }
   ],
   "source": [
    "weight_lower_bound=WQ1-1.5*WIQR\n",
    "weight_lower_bound"
   ]
  },
  {
   "cell_type": "code",
   "execution_count": 546,
   "id": "5f6cadb4-eaaa-4b49-9ed3-e57db82ac712",
   "metadata": {},
   "outputs": [
    {
     "data": {
      "text/plain": [
       "63.505620481218955"
      ]
     },
     "execution_count": 546,
     "metadata": {},
     "output_type": "execute_result"
    }
   ],
   "source": [
    "HQ1=(df[\"Height\"]).quantile(.25)\n",
    "HQ1"
   ]
  },
  {
   "cell_type": "code",
   "execution_count": 547,
   "id": "61d5d2d5-4473-43a2-bd10-197fb4134655",
   "metadata": {},
   "outputs": [
    {
     "data": {
      "text/plain": [
       "69.1742617268347"
      ]
     },
     "execution_count": 547,
     "metadata": {},
     "output_type": "execute_result"
    }
   ],
   "source": [
    "HQ3=(df[\"Height\"]).quantile(.75)\n",
    "HQ3"
   ]
  },
  {
   "cell_type": "code",
   "execution_count": 548,
   "id": "4f3504aa-bc78-4704-8211-27f935a8aae0",
   "metadata": {},
   "outputs": [
    {
     "data": {
      "text/plain": [
       "5.668641245615746"
      ]
     },
     "execution_count": 548,
     "metadata": {},
     "output_type": "execute_result"
    }
   ],
   "source": [
    "HIQR=HQ3-HQ1\n",
    "HIQR"
   ]
  },
  {
   "cell_type": "code",
   "execution_count": 549,
   "id": "9b4d4a7e-544e-4390-b2de-9a8db88edf40",
   "metadata": {},
   "outputs": [
    {
     "data": {
      "text/plain": [
       "77.67722359525831"
      ]
     },
     "execution_count": 549,
     "metadata": {},
     "output_type": "execute_result"
    }
   ],
   "source": [
    "height_upper_bound=HQ3+1.5*HIQR\n",
    "height_upper_bound"
   ]
  },
  {
   "cell_type": "code",
   "execution_count": 550,
   "id": "2a811ace-7132-4102-bcc1-7a54d1d047e1",
   "metadata": {},
   "outputs": [
    {
     "data": {
      "text/plain": [
       "55.00265861279534"
      ]
     },
     "execution_count": 550,
     "metadata": {},
     "output_type": "execute_result"
    }
   ],
   "source": [
    "height_lower_bound=HQ1-1.5*HIQR\n",
    "height_lower_bound"
   ]
  },
  {
   "cell_type": "code",
   "execution_count": 551,
   "id": "c46d6e62-10fc-4853-ae0b-7e1ab31fed96",
   "metadata": {},
   "outputs": [
    {
     "data": {
      "text/html": [
       "<div>\n",
       "<style scoped>\n",
       "    .dataframe tbody tr th:only-of-type {\n",
       "        vertical-align: middle;\n",
       "    }\n",
       "\n",
       "    .dataframe tbody tr th {\n",
       "        vertical-align: top;\n",
       "    }\n",
       "\n",
       "    .dataframe thead th {\n",
       "        text-align: right;\n",
       "    }\n",
       "</style>\n",
       "<table border=\"1\" class=\"dataframe\">\n",
       "  <thead>\n",
       "    <tr style=\"text-align: right;\">\n",
       "      <th></th>\n",
       "      <th>Gender</th>\n",
       "      <th>Height</th>\n",
       "      <th>Weight</th>\n",
       "    </tr>\n",
       "  </thead>\n",
       "  <tbody>\n",
       "    <tr>\n",
       "      <th>994</th>\n",
       "      <td>Male</td>\n",
       "      <td>78.095867</td>\n",
       "      <td>255.690835</td>\n",
       "    </tr>\n",
       "    <tr>\n",
       "      <th>1317</th>\n",
       "      <td>Male</td>\n",
       "      <td>78.462053</td>\n",
       "      <td>227.342565</td>\n",
       "    </tr>\n",
       "    <tr>\n",
       "      <th>2014</th>\n",
       "      <td>Male</td>\n",
       "      <td>78.998742</td>\n",
       "      <td>269.989699</td>\n",
       "    </tr>\n",
       "    <tr>\n",
       "      <th>3285</th>\n",
       "      <td>Male</td>\n",
       "      <td>78.528210</td>\n",
       "      <td>253.889004</td>\n",
       "    </tr>\n",
       "    <tr>\n",
       "      <th>3757</th>\n",
       "      <td>Male</td>\n",
       "      <td>78.621374</td>\n",
       "      <td>245.733783</td>\n",
       "    </tr>\n",
       "    <tr>\n",
       "      <th>6624</th>\n",
       "      <td>Female</td>\n",
       "      <td>54.616858</td>\n",
       "      <td>71.393749</td>\n",
       "    </tr>\n",
       "    <tr>\n",
       "      <th>7294</th>\n",
       "      <td>Female</td>\n",
       "      <td>54.873728</td>\n",
       "      <td>78.606670</td>\n",
       "    </tr>\n",
       "    <tr>\n",
       "      <th>9285</th>\n",
       "      <td>Female</td>\n",
       "      <td>54.263133</td>\n",
       "      <td>64.700127</td>\n",
       "    </tr>\n",
       "  </tbody>\n",
       "</table>\n",
       "</div>"
      ],
      "text/plain": [
       "      Gender     Height      Weight\n",
       "994     Male  78.095867  255.690835\n",
       "1317    Male  78.462053  227.342565\n",
       "2014    Male  78.998742  269.989699\n",
       "3285    Male  78.528210  253.889004\n",
       "3757    Male  78.621374  245.733783\n",
       "6624  Female  54.616858   71.393749\n",
       "7294  Female  54.873728   78.606670\n",
       "9285  Female  54.263133   64.700127"
      ]
     },
     "execution_count": 551,
     "metadata": {},
     "output_type": "execute_result"
    }
   ],
   "source": [
    "out=df[(df['Height']<height_lower_bound)|(df['Height']>height_upper_bound)|(df['Weight']<weight_lower_bound)|(df['Weight']>weight_upper_bound)]\n",
    "out"
   ]
  },
  {
   "cell_type": "code",
   "execution_count": 552,
   "id": "2ae5c5f9-4d28-4daf-896c-9c8815d97c63",
   "metadata": {},
   "outputs": [
    {
     "data": {
      "text/plain": [
       "0       73.847017\n",
       "1       68.781904\n",
       "2       74.110105\n",
       "3       71.730978\n",
       "4       69.881796\n",
       "          ...    \n",
       "9995    66.172652\n",
       "9996    67.067155\n",
       "9997    63.867992\n",
       "9998    69.034243\n",
       "9999    61.944246\n",
       "Name: Height, Length: 9992, dtype: float64"
      ]
     },
     "execution_count": 552,
     "metadata": {},
     "output_type": "execute_result"
    }
   ],
   "source": [
    "height=df[\"Height\"][(df['Height']>height_lower_bound)&(df['Height']<height_upper_bound) ]\n",
    "height"
   ]
  },
  {
   "cell_type": "code",
   "execution_count": 553,
   "id": "e9609843-3148-4400-b065-6f90624c21ef",
   "metadata": {},
   "outputs": [
    {
     "data": {
      "text/plain": [
       "0       241.893563\n",
       "1       162.310473\n",
       "2       212.740856\n",
       "3       220.042470\n",
       "4       206.349801\n",
       "           ...    \n",
       "9995    136.777454\n",
       "9996    170.867906\n",
       "9997    128.475319\n",
       "9998    163.852461\n",
       "9999    113.649103\n",
       "Name: Weight, Length: 9999, dtype: float64"
      ]
     },
     "execution_count": 553,
     "metadata": {},
     "output_type": "execute_result"
    }
   ],
   "source": [
    "weight=df[\"Weight\"][(df[\"Weight\"]>weight_lower_bound)&(df[\"Weight\"]<weight_upper_bound)]\n",
    "weight"
   ]
  },
  {
   "cell_type": "code",
   "execution_count": 554,
   "id": "1b263f89-da73-4a02-9e92-e5dc8c2cee4a",
   "metadata": {},
   "outputs": [],
   "source": [
    "df[\"height\"]=height\n",
    "df[\"weight\"]=weight"
   ]
  },
  {
   "cell_type": "code",
   "execution_count": 555,
   "id": "a29748ce-fa99-4e34-bb7d-ee024ec871bc",
   "metadata": {},
   "outputs": [
    {
     "data": {
      "text/html": [
       "<div>\n",
       "<style scoped>\n",
       "    .dataframe tbody tr th:only-of-type {\n",
       "        vertical-align: middle;\n",
       "    }\n",
       "\n",
       "    .dataframe tbody tr th {\n",
       "        vertical-align: top;\n",
       "    }\n",
       "\n",
       "    .dataframe thead th {\n",
       "        text-align: right;\n",
       "    }\n",
       "</style>\n",
       "<table border=\"1\" class=\"dataframe\">\n",
       "  <thead>\n",
       "    <tr style=\"text-align: right;\">\n",
       "      <th></th>\n",
       "      <th>Gender</th>\n",
       "      <th>Height</th>\n",
       "      <th>Weight</th>\n",
       "      <th>height</th>\n",
       "      <th>weight</th>\n",
       "    </tr>\n",
       "  </thead>\n",
       "  <tbody>\n",
       "    <tr>\n",
       "      <th>0</th>\n",
       "      <td>Male</td>\n",
       "      <td>73.847017</td>\n",
       "      <td>241.893563</td>\n",
       "      <td>73.847017</td>\n",
       "      <td>241.893563</td>\n",
       "    </tr>\n",
       "    <tr>\n",
       "      <th>1</th>\n",
       "      <td>Male</td>\n",
       "      <td>68.781904</td>\n",
       "      <td>162.310473</td>\n",
       "      <td>68.781904</td>\n",
       "      <td>162.310473</td>\n",
       "    </tr>\n",
       "    <tr>\n",
       "      <th>2</th>\n",
       "      <td>Male</td>\n",
       "      <td>74.110105</td>\n",
       "      <td>212.740856</td>\n",
       "      <td>74.110105</td>\n",
       "      <td>212.740856</td>\n",
       "    </tr>\n",
       "    <tr>\n",
       "      <th>3</th>\n",
       "      <td>Male</td>\n",
       "      <td>71.730978</td>\n",
       "      <td>220.042470</td>\n",
       "      <td>71.730978</td>\n",
       "      <td>220.042470</td>\n",
       "    </tr>\n",
       "    <tr>\n",
       "      <th>4</th>\n",
       "      <td>Male</td>\n",
       "      <td>69.881796</td>\n",
       "      <td>206.349801</td>\n",
       "      <td>69.881796</td>\n",
       "      <td>206.349801</td>\n",
       "    </tr>\n",
       "    <tr>\n",
       "      <th>...</th>\n",
       "      <td>...</td>\n",
       "      <td>...</td>\n",
       "      <td>...</td>\n",
       "      <td>...</td>\n",
       "      <td>...</td>\n",
       "    </tr>\n",
       "    <tr>\n",
       "      <th>9995</th>\n",
       "      <td>Female</td>\n",
       "      <td>66.172652</td>\n",
       "      <td>136.777454</td>\n",
       "      <td>66.172652</td>\n",
       "      <td>136.777454</td>\n",
       "    </tr>\n",
       "    <tr>\n",
       "      <th>9996</th>\n",
       "      <td>Female</td>\n",
       "      <td>67.067155</td>\n",
       "      <td>170.867906</td>\n",
       "      <td>67.067155</td>\n",
       "      <td>170.867906</td>\n",
       "    </tr>\n",
       "    <tr>\n",
       "      <th>9997</th>\n",
       "      <td>Female</td>\n",
       "      <td>63.867992</td>\n",
       "      <td>128.475319</td>\n",
       "      <td>63.867992</td>\n",
       "      <td>128.475319</td>\n",
       "    </tr>\n",
       "    <tr>\n",
       "      <th>9998</th>\n",
       "      <td>Female</td>\n",
       "      <td>69.034243</td>\n",
       "      <td>163.852461</td>\n",
       "      <td>69.034243</td>\n",
       "      <td>163.852461</td>\n",
       "    </tr>\n",
       "    <tr>\n",
       "      <th>9999</th>\n",
       "      <td>Female</td>\n",
       "      <td>61.944246</td>\n",
       "      <td>113.649103</td>\n",
       "      <td>61.944246</td>\n",
       "      <td>113.649103</td>\n",
       "    </tr>\n",
       "  </tbody>\n",
       "</table>\n",
       "<p>10000 rows × 5 columns</p>\n",
       "</div>"
      ],
      "text/plain": [
       "      Gender     Height      Weight     height      weight\n",
       "0       Male  73.847017  241.893563  73.847017  241.893563\n",
       "1       Male  68.781904  162.310473  68.781904  162.310473\n",
       "2       Male  74.110105  212.740856  74.110105  212.740856\n",
       "3       Male  71.730978  220.042470  71.730978  220.042470\n",
       "4       Male  69.881796  206.349801  69.881796  206.349801\n",
       "...      ...        ...         ...        ...         ...\n",
       "9995  Female  66.172652  136.777454  66.172652  136.777454\n",
       "9996  Female  67.067155  170.867906  67.067155  170.867906\n",
       "9997  Female  63.867992  128.475319  63.867992  128.475319\n",
       "9998  Female  69.034243  163.852461  69.034243  163.852461\n",
       "9999  Female  61.944246  113.649103  61.944246  113.649103\n",
       "\n",
       "[10000 rows x 5 columns]"
      ]
     },
     "execution_count": 555,
     "metadata": {},
     "output_type": "execute_result"
    }
   ],
   "source": [
    "df"
   ]
  },
  {
   "cell_type": "code",
   "execution_count": 556,
   "id": "20a2f42c-4131-4261-a7b7-41b73bfd4ccd",
   "metadata": {},
   "outputs": [
    {
     "data": {
      "text/plain": [
       "Gender    0\n",
       "Height    0\n",
       "Weight    0\n",
       "height    8\n",
       "weight    1\n",
       "dtype: int64"
      ]
     },
     "execution_count": 556,
     "metadata": {},
     "output_type": "execute_result"
    }
   ],
   "source": [
    "df.isnull().sum()"
   ]
  },
  {
   "cell_type": "code",
   "execution_count": 557,
   "id": "b9b1a43a-99a8-41c3-818e-304d3d0a947c",
   "metadata": {},
   "outputs": [
    {
     "data": {
      "text/html": [
       "<div>\n",
       "<style scoped>\n",
       "    .dataframe tbody tr th:only-of-type {\n",
       "        vertical-align: middle;\n",
       "    }\n",
       "\n",
       "    .dataframe tbody tr th {\n",
       "        vertical-align: top;\n",
       "    }\n",
       "\n",
       "    .dataframe thead th {\n",
       "        text-align: right;\n",
       "    }\n",
       "</style>\n",
       "<table border=\"1\" class=\"dataframe\">\n",
       "  <thead>\n",
       "    <tr style=\"text-align: right;\">\n",
       "      <th></th>\n",
       "      <th>Gender</th>\n",
       "      <th>Height</th>\n",
       "      <th>Weight</th>\n",
       "      <th>height</th>\n",
       "      <th>weight</th>\n",
       "    </tr>\n",
       "  </thead>\n",
       "  <tbody>\n",
       "    <tr>\n",
       "      <th>0</th>\n",
       "      <td>Male</td>\n",
       "      <td>73.847017</td>\n",
       "      <td>241.893563</td>\n",
       "      <td>73.847017</td>\n",
       "      <td>241.893563</td>\n",
       "    </tr>\n",
       "    <tr>\n",
       "      <th>1</th>\n",
       "      <td>Male</td>\n",
       "      <td>68.781904</td>\n",
       "      <td>162.310473</td>\n",
       "      <td>68.781904</td>\n",
       "      <td>162.310473</td>\n",
       "    </tr>\n",
       "    <tr>\n",
       "      <th>2</th>\n",
       "      <td>Male</td>\n",
       "      <td>74.110105</td>\n",
       "      <td>212.740856</td>\n",
       "      <td>74.110105</td>\n",
       "      <td>212.740856</td>\n",
       "    </tr>\n",
       "    <tr>\n",
       "      <th>3</th>\n",
       "      <td>Male</td>\n",
       "      <td>71.730978</td>\n",
       "      <td>220.042470</td>\n",
       "      <td>71.730978</td>\n",
       "      <td>220.042470</td>\n",
       "    </tr>\n",
       "    <tr>\n",
       "      <th>4</th>\n",
       "      <td>Male</td>\n",
       "      <td>69.881796</td>\n",
       "      <td>206.349801</td>\n",
       "      <td>69.881796</td>\n",
       "      <td>206.349801</td>\n",
       "    </tr>\n",
       "    <tr>\n",
       "      <th>...</th>\n",
       "      <td>...</td>\n",
       "      <td>...</td>\n",
       "      <td>...</td>\n",
       "      <td>...</td>\n",
       "      <td>...</td>\n",
       "    </tr>\n",
       "    <tr>\n",
       "      <th>9995</th>\n",
       "      <td>Female</td>\n",
       "      <td>66.172652</td>\n",
       "      <td>136.777454</td>\n",
       "      <td>66.172652</td>\n",
       "      <td>136.777454</td>\n",
       "    </tr>\n",
       "    <tr>\n",
       "      <th>9996</th>\n",
       "      <td>Female</td>\n",
       "      <td>67.067155</td>\n",
       "      <td>170.867906</td>\n",
       "      <td>67.067155</td>\n",
       "      <td>170.867906</td>\n",
       "    </tr>\n",
       "    <tr>\n",
       "      <th>9997</th>\n",
       "      <td>Female</td>\n",
       "      <td>63.867992</td>\n",
       "      <td>128.475319</td>\n",
       "      <td>63.867992</td>\n",
       "      <td>128.475319</td>\n",
       "    </tr>\n",
       "    <tr>\n",
       "      <th>9998</th>\n",
       "      <td>Female</td>\n",
       "      <td>69.034243</td>\n",
       "      <td>163.852461</td>\n",
       "      <td>69.034243</td>\n",
       "      <td>163.852461</td>\n",
       "    </tr>\n",
       "    <tr>\n",
       "      <th>9999</th>\n",
       "      <td>Female</td>\n",
       "      <td>61.944246</td>\n",
       "      <td>113.649103</td>\n",
       "      <td>61.944246</td>\n",
       "      <td>113.649103</td>\n",
       "    </tr>\n",
       "  </tbody>\n",
       "</table>\n",
       "<p>10000 rows × 5 columns</p>\n",
       "</div>"
      ],
      "text/plain": [
       "      Gender     Height      Weight     height      weight\n",
       "0       Male  73.847017  241.893563  73.847017  241.893563\n",
       "1       Male  68.781904  162.310473  68.781904  162.310473\n",
       "2       Male  74.110105  212.740856  74.110105  212.740856\n",
       "3       Male  71.730978  220.042470  71.730978  220.042470\n",
       "4       Male  69.881796  206.349801  69.881796  206.349801\n",
       "...      ...        ...         ...        ...         ...\n",
       "9995  Female  66.172652  136.777454  66.172652  136.777454\n",
       "9996  Female  67.067155  170.867906  67.067155  170.867906\n",
       "9997  Female  63.867992  128.475319  63.867992  128.475319\n",
       "9998  Female  69.034243  163.852461  69.034243  163.852461\n",
       "9999  Female  61.944246  113.649103  61.944246  113.649103\n",
       "\n",
       "[10000 rows x 5 columns]"
      ]
     },
     "execution_count": 557,
     "metadata": {},
     "output_type": "execute_result"
    }
   ],
   "source": [
    "df"
   ]
  },
  {
   "cell_type": "code",
   "execution_count": 558,
   "id": "c3077938-f2c7-4088-a3df-1eb25d34a498",
   "metadata": {},
   "outputs": [],
   "source": [
    "df.drop([\"Height\",\"Weight\"],axis=1,inplace=True)\n"
   ]
  },
  {
   "cell_type": "code",
   "execution_count": 560,
   "id": "27835ac6-f512-4ffe-938b-423bad5a54bc",
   "metadata": {},
   "outputs": [
    {
     "data": {
      "text/html": [
       "<div>\n",
       "<style scoped>\n",
       "    .dataframe tbody tr th:only-of-type {\n",
       "        vertical-align: middle;\n",
       "    }\n",
       "\n",
       "    .dataframe tbody tr th {\n",
       "        vertical-align: top;\n",
       "    }\n",
       "\n",
       "    .dataframe thead th {\n",
       "        text-align: right;\n",
       "    }\n",
       "</style>\n",
       "<table border=\"1\" class=\"dataframe\">\n",
       "  <thead>\n",
       "    <tr style=\"text-align: right;\">\n",
       "      <th></th>\n",
       "      <th>Gender</th>\n",
       "      <th>height</th>\n",
       "      <th>weight</th>\n",
       "    </tr>\n",
       "  </thead>\n",
       "  <tbody>\n",
       "    <tr>\n",
       "      <th>0</th>\n",
       "      <td>Male</td>\n",
       "      <td>73.847017</td>\n",
       "      <td>241.893563</td>\n",
       "    </tr>\n",
       "    <tr>\n",
       "      <th>1</th>\n",
       "      <td>Male</td>\n",
       "      <td>68.781904</td>\n",
       "      <td>162.310473</td>\n",
       "    </tr>\n",
       "    <tr>\n",
       "      <th>2</th>\n",
       "      <td>Male</td>\n",
       "      <td>74.110105</td>\n",
       "      <td>212.740856</td>\n",
       "    </tr>\n",
       "    <tr>\n",
       "      <th>3</th>\n",
       "      <td>Male</td>\n",
       "      <td>71.730978</td>\n",
       "      <td>220.042470</td>\n",
       "    </tr>\n",
       "    <tr>\n",
       "      <th>4</th>\n",
       "      <td>Male</td>\n",
       "      <td>69.881796</td>\n",
       "      <td>206.349801</td>\n",
       "    </tr>\n",
       "    <tr>\n",
       "      <th>...</th>\n",
       "      <td>...</td>\n",
       "      <td>...</td>\n",
       "      <td>...</td>\n",
       "    </tr>\n",
       "    <tr>\n",
       "      <th>9995</th>\n",
       "      <td>Female</td>\n",
       "      <td>66.172652</td>\n",
       "      <td>136.777454</td>\n",
       "    </tr>\n",
       "    <tr>\n",
       "      <th>9996</th>\n",
       "      <td>Female</td>\n",
       "      <td>67.067155</td>\n",
       "      <td>170.867906</td>\n",
       "    </tr>\n",
       "    <tr>\n",
       "      <th>9997</th>\n",
       "      <td>Female</td>\n",
       "      <td>63.867992</td>\n",
       "      <td>128.475319</td>\n",
       "    </tr>\n",
       "    <tr>\n",
       "      <th>9998</th>\n",
       "      <td>Female</td>\n",
       "      <td>69.034243</td>\n",
       "      <td>163.852461</td>\n",
       "    </tr>\n",
       "    <tr>\n",
       "      <th>9999</th>\n",
       "      <td>Female</td>\n",
       "      <td>61.944246</td>\n",
       "      <td>113.649103</td>\n",
       "    </tr>\n",
       "  </tbody>\n",
       "</table>\n",
       "<p>10000 rows × 3 columns</p>\n",
       "</div>"
      ],
      "text/plain": [
       "      Gender     height      weight\n",
       "0       Male  73.847017  241.893563\n",
       "1       Male  68.781904  162.310473\n",
       "2       Male  74.110105  212.740856\n",
       "3       Male  71.730978  220.042470\n",
       "4       Male  69.881796  206.349801\n",
       "...      ...        ...         ...\n",
       "9995  Female  66.172652  136.777454\n",
       "9996  Female  67.067155  170.867906\n",
       "9997  Female  63.867992  128.475319\n",
       "9998  Female  69.034243  163.852461\n",
       "9999  Female  61.944246  113.649103\n",
       "\n",
       "[10000 rows x 3 columns]"
      ]
     },
     "execution_count": 560,
     "metadata": {},
     "output_type": "execute_result"
    }
   ],
   "source": [
    "df"
   ]
  },
  {
   "cell_type": "code",
   "execution_count": 566,
   "id": "cf1133dc-8eba-416e-bd19-f46c3d193a02",
   "metadata": {},
   "outputs": [],
   "source": [
    "df[\"height\"].fillna(df['height'].mean(),inplace=True)"
   ]
  },
  {
   "cell_type": "code",
   "execution_count": 567,
   "id": "ac3fe539-d12c-4236-adce-7d366e8fae5e",
   "metadata": {},
   "outputs": [],
   "source": [
    "df[\"weight\"].fillna(df['weight'].mean(),inplace=True)"
   ]
  },
  {
   "cell_type": "code",
   "execution_count": 568,
   "id": "f9e1484e-5d1e-438b-967d-0b34706f8591",
   "metadata": {},
   "outputs": [
    {
     "data": {
      "text/html": [
       "<div>\n",
       "<style scoped>\n",
       "    .dataframe tbody tr th:only-of-type {\n",
       "        vertical-align: middle;\n",
       "    }\n",
       "\n",
       "    .dataframe tbody tr th {\n",
       "        vertical-align: top;\n",
       "    }\n",
       "\n",
       "    .dataframe thead th {\n",
       "        text-align: right;\n",
       "    }\n",
       "</style>\n",
       "<table border=\"1\" class=\"dataframe\">\n",
       "  <thead>\n",
       "    <tr style=\"text-align: right;\">\n",
       "      <th></th>\n",
       "      <th>Gender</th>\n",
       "      <th>height</th>\n",
       "      <th>weight</th>\n",
       "    </tr>\n",
       "  </thead>\n",
       "  <tbody>\n",
       "    <tr>\n",
       "      <th>0</th>\n",
       "      <td>Male</td>\n",
       "      <td>73.847017</td>\n",
       "      <td>241.893563</td>\n",
       "    </tr>\n",
       "    <tr>\n",
       "      <th>1</th>\n",
       "      <td>Male</td>\n",
       "      <td>68.781904</td>\n",
       "      <td>162.310473</td>\n",
       "    </tr>\n",
       "    <tr>\n",
       "      <th>2</th>\n",
       "      <td>Male</td>\n",
       "      <td>74.110105</td>\n",
       "      <td>212.740856</td>\n",
       "    </tr>\n",
       "    <tr>\n",
       "      <th>3</th>\n",
       "      <td>Male</td>\n",
       "      <td>71.730978</td>\n",
       "      <td>220.042470</td>\n",
       "    </tr>\n",
       "    <tr>\n",
       "      <th>4</th>\n",
       "      <td>Male</td>\n",
       "      <td>69.881796</td>\n",
       "      <td>206.349801</td>\n",
       "    </tr>\n",
       "    <tr>\n",
       "      <th>...</th>\n",
       "      <td>...</td>\n",
       "      <td>...</td>\n",
       "      <td>...</td>\n",
       "    </tr>\n",
       "    <tr>\n",
       "      <th>9995</th>\n",
       "      <td>Female</td>\n",
       "      <td>66.172652</td>\n",
       "      <td>136.777454</td>\n",
       "    </tr>\n",
       "    <tr>\n",
       "      <th>9996</th>\n",
       "      <td>Female</td>\n",
       "      <td>67.067155</td>\n",
       "      <td>170.867906</td>\n",
       "    </tr>\n",
       "    <tr>\n",
       "      <th>9997</th>\n",
       "      <td>Female</td>\n",
       "      <td>63.867992</td>\n",
       "      <td>128.475319</td>\n",
       "    </tr>\n",
       "    <tr>\n",
       "      <th>9998</th>\n",
       "      <td>Female</td>\n",
       "      <td>69.034243</td>\n",
       "      <td>163.852461</td>\n",
       "    </tr>\n",
       "    <tr>\n",
       "      <th>9999</th>\n",
       "      <td>Female</td>\n",
       "      <td>61.944246</td>\n",
       "      <td>113.649103</td>\n",
       "    </tr>\n",
       "  </tbody>\n",
       "</table>\n",
       "<p>10000 rows × 3 columns</p>\n",
       "</div>"
      ],
      "text/plain": [
       "      Gender     height      weight\n",
       "0       Male  73.847017  241.893563\n",
       "1       Male  68.781904  162.310473\n",
       "2       Male  74.110105  212.740856\n",
       "3       Male  71.730978  220.042470\n",
       "4       Male  69.881796  206.349801\n",
       "...      ...        ...         ...\n",
       "9995  Female  66.172652  136.777454\n",
       "9996  Female  67.067155  170.867906\n",
       "9997  Female  63.867992  128.475319\n",
       "9998  Female  69.034243  163.852461\n",
       "9999  Female  61.944246  113.649103\n",
       "\n",
       "[10000 rows x 3 columns]"
      ]
     },
     "execution_count": 568,
     "metadata": {},
     "output_type": "execute_result"
    }
   ],
   "source": [
    "df"
   ]
  },
  {
   "cell_type": "code",
   "execution_count": 564,
   "id": "0d7ac69b-48f8-480c-863b-bf303254494f",
   "metadata": {},
   "outputs": [
    {
     "data": {
      "text/plain": [
       "Gender    0\n",
       "height    0\n",
       "weight    0\n",
       "dtype: int64"
      ]
     },
     "execution_count": 564,
     "metadata": {},
     "output_type": "execute_result"
    }
   ],
   "source": [
    "df.isnull().sum()"
   ]
  },
  {
   "cell_type": "code",
   "execution_count": null,
   "id": "bd5dc68d-1e1c-4604-b4d9-e8c9d63a4f26",
   "metadata": {},
   "outputs": [],
   "source": []
  },
  {
   "cell_type": "code",
   "execution_count": null,
   "id": "ea9ef3eb-1ece-4500-8f75-fde99c4a1fb2",
   "metadata": {},
   "outputs": [],
   "source": []
  },
  {
   "cell_type": "code",
   "execution_count": null,
   "id": "15139abb-555c-4d9e-a0de-cb202cb1c29d",
   "metadata": {},
   "outputs": [],
   "source": []
  },
  {
   "cell_type": "code",
   "execution_count": null,
   "id": "2f855b17-d4d0-40ae-8c97-31d18d15ddc8",
   "metadata": {},
   "outputs": [],
   "source": []
  },
  {
   "cell_type": "markdown",
   "id": "6b2b763d-08b1-4761-bbb4-285cbe49e62d",
   "metadata": {},
   "source": [
    "Scenario: \n",
    "An e-commerce company recently launched an email marketing campaign to promote a new product. The marketing team sent out 1000 emails and you are tasked with analysing how many recipients clicked on the link in the email(Success) vs how many did not(failure).\n",
    "From the previous campaigns, you know that the avg Click Through Rate (CTR) is 15 %, meaning that in past campaigns 15% of the recipients typically click the link.\n",
    "Calculate the probability of having exactly 150 recipients click to link in this campaign, given the campaign params as follows:\n",
    "\n",
    "number of trials(email sent) n=1000\n",
    "Prob of success=0.15\n",
    "No. of success is k=150"
   ]
  },
  {
   "cell_type": "code",
   "execution_count": 2,
   "id": "9cedd821-5019-4f2c-87f4-24f04fcd94c3",
   "metadata": {},
   "outputs": [],
   "source": [
    "import scipy.stats as stats\n",
    "n=1000\n",
    "p=0.15\n",
    "k=150\n",
    "p=stats.binom.pmf(k,n,p)"
   ]
  },
  {
   "cell_type": "code",
   "execution_count": 3,
   "id": "24d95dcf-3e17-4a47-96b1-f8765182b9f5",
   "metadata": {},
   "outputs": [
    {
     "data": {
      "text/plain": [
       "0.035310780109792626"
      ]
     },
     "execution_count": 3,
     "metadata": {},
     "output_type": "execute_result"
    }
   ],
   "source": [
    "p"
   ]
  },
  {
   "cell_type": "code",
   "execution_count": null,
   "id": "d9b25c4b-3e4d-45f9-b445-b3f4004a4ed7",
   "metadata": {},
   "outputs": [],
   "source": []
  }
 ],
 "metadata": {
  "kernelspec": {
   "display_name": "Python 3 (ipykernel)",
   "language": "python",
   "name": "python3"
  },
  "language_info": {
   "codemirror_mode": {
    "name": "ipython",
    "version": 3
   },
   "file_extension": ".py",
   "mimetype": "text/x-python",
   "name": "python",
   "nbconvert_exporter": "python",
   "pygments_lexer": "ipython3",
   "version": "3.12.4"
  }
 },
 "nbformat": 4,
 "nbformat_minor": 5
}
