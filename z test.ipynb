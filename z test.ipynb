{
 "cells": [
  {
   "cell_type": "markdown",
   "id": "70ac65f1-78e4-4e73-8bd8-fcb46038a233",
   "metadata": {},
   "source": [
    "# z test"
   ]
  },
  {
   "cell_type": "markdown",
   "id": "0c1ab0f9-c8dc-43da-a49a-eeb7a9f72915",
   "metadata": {},
   "source": [
    "## *  A factory claims the mean lifetime of its bulbs is 1000 hours. A consumer group tests a random sample of 36 bulbs and finds a mean lifetime of 980 hours with a known population standard deviation of 60 hours. At a 5% significance level, is there enough evidence to reject the factory’s claim?"
   ]
  },
  {
   "cell_type": "markdown",
   "id": "bdc7ad37-7042-463a-836a-1811914ac13f",
   "metadata": {},
   "source": [
    "### To determine whether there is enough evidence to reject the factory's claim, we perform a hypothesis test for the population mean using the Z-test (since the population standard deviation is known)."
   ]
  },
  {
   "cell_type": "markdown",
   "id": "de425a5e-baf6-46c1-a55f-8accd0c65afb",
   "metadata": {},
   "source": [
    "#  two-tailed test"
   ]
  },
  {
   "cell_type": "markdown",
   "id": "241ae6a8-bbef-4087-9545-9ec6ca021ffd",
   "metadata": {},
   "source": [
    "## State the Hypotheses:\n",
    "### * Null Hypothesis (H₀): μ = 1000 (The mean lifetime is 1000 hours.)\n",
    "\n",
    "### * Alternative Hypothesis (H₁): μ ≠ 1000 (The mean lifetime is not 1000 hours.)"
   ]
  },
  {
   "cell_type": "markdown",
   "id": "a40f0830-34ae-4301-bdd7-46b4f2c5e897",
   "metadata": {},
   "source": [
    "### Given Information\n",
    "* Sample mean (x̄) = 980 hours\n",
    "\n",
    "* Population mean (μ₀) = 1000 hours\n",
    "\n",
    "* Standard deviation (σ) = 60 hours\n",
    "\n",
    "* Sample size (n) = 36\n",
    "\n",
    "* Significance level (α) = 0.05"
   ]
  },
  {
   "cell_type": "code",
   "execution_count": 4,
   "id": "3dfc1b77-569e-4218-8cd6-8efdd8c42200",
   "metadata": {},
   "outputs": [
    {
     "name": "stdout",
     "output_type": "stream",
     "text": [
      "Z-score: -2.00\n",
      "Critical Z-value: ±1.96\n",
      "Reject the null hypothesis: There is enough evidence to reject the factory’s claim.\n"
     ]
    }
   ],
   "source": [
    "import scipy.stats as stats\n",
    "import math\n",
    "\n",
    "\n",
    "mu_0 = 1000           \n",
    "x_bar = 980           \n",
    "sigma = 60           \n",
    "n = 36                \n",
    "alpha = 0.05          \n",
    "\n",
    "# Calculate Z-score\n",
    "z = (x_bar - mu_0) / (sigma / math.sqrt(n))\n",
    "\n",
    "#  critical Z-values for two-tailed test\n",
    "z_critical = stats.norm.ppf(1 - alpha / 2)\n",
    "\n",
    "\n",
    "print(f\"Z-score: {z:.2f}\")\n",
    "print(f\"Critical Z-value: ±{z_critical:.2f}\")\n",
    "\n",
    "\n",
    "if abs(z) > z_critical:\n",
    "    print(\"Reject the null hypothesis: There is enough evidence to reject the factory’s claim.\")\n",
    "else:\n",
    "    print(\"Fail to reject the null hypothesis: There is not enough evidence to reject the factory’s claim.\")\n"
   ]
  },
  {
   "cell_type": "markdown",
   "id": "38a9c452-533b-4e5f-b302-37467cd8ad84",
   "metadata": {},
   "source": [
    "# Left-Tailed Test"
   ]
  },
  {
   "cell_type": "markdown",
   "id": "c7cb2355-dc72-4f31-8b90-ab851bcd2bbe",
   "metadata": {},
   "source": [
    "## Hypotheses for Left-Tailed Test:\n",
    "* Null Hypothesis (H₀): μ = 1000\n",
    "\n",
    "* Alternative Hypothesis (H₁): μ < 1000"
   ]
  },
  {
   "cell_type": "code",
   "execution_count": 5,
   "id": "42dc8f21-e56f-4f30-9b80-4e1342fa55fe",
   "metadata": {},
   "outputs": [
    {
     "name": "stdout",
     "output_type": "stream",
     "text": [
      "Z-score: -2.00\n",
      "Critical Z-value: -1.64\n",
      "Reject the null hypothesis: There is enough evidence to suggest the bulbs last less than 1000 hours.\n"
     ]
    }
   ],
   "source": [
    "import scipy.stats as stats\n",
    "import math\n",
    "\n",
    "\n",
    "mu_0 = 1000           \n",
    "x_bar = 980          \n",
    "sigma = 60            \n",
    "n = 36                \n",
    "alpha = 0.05         \n",
    "\n",
    "# Calculate Z-score\n",
    "z = (x_bar - mu_0) / (sigma / math.sqrt(n))\n",
    "\n",
    "# Critical Z-value for left-tailed test\n",
    "z_critical = stats.norm.ppf(alpha)\n",
    "\n",
    "\n",
    "print(f\"Z-score: {z:.2f}\")\n",
    "print(f\"Critical Z-value: {z_critical:.2f}\")\n",
    "\n",
    "\n",
    "if z < z_critical:\n",
    "    print(\"Reject the null hypothesis: There is enough evidence to suggest the bulbs last less than 1000 hours.\")\n",
    "else:\n",
    "    print(\"Fail to reject the null hypothesis: Not enough evidence to suggest the bulbs last less than 1000 hours.\")\n"
   ]
  },
  {
   "cell_type": "code",
   "execution_count": null,
   "id": "6da80c47-313a-4521-b6fb-dde2e8eecf12",
   "metadata": {},
   "outputs": [],
   "source": []
  }
 ],
 "metadata": {
  "kernelspec": {
   "display_name": "Python 3 (ipykernel)",
   "language": "python",
   "name": "python3"
  },
  "language_info": {
   "codemirror_mode": {
    "name": "ipython",
    "version": 3
   },
   "file_extension": ".py",
   "mimetype": "text/x-python",
   "name": "python",
   "nbconvert_exporter": "python",
   "pygments_lexer": "ipython3",
   "version": "3.12.4"
  }
 },
 "nbformat": 4,
 "nbformat_minor": 5
}
