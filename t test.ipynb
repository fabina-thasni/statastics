{
 "cells": [
  {
   "cell_type": "code",
   "execution_count": 1,
   "id": "5fc08b00-b610-490a-bdd0-2ddb418d8be5",
   "metadata": {},
   "outputs": [
    {
     "name": "stdout",
     "output_type": "stream",
     "text": [
      "T-statistic: 2.6352\n",
      "Critical t (two-tailed): 2.2622\n",
      "Two-tailed test: Reject null hypothesis\n"
     ]
    }
   ],
   "source": [
    "import math\n",
    "from scipy import stats\n",
    "\n",
    "# Given values\n",
    "sample_mean = 2.75\n",
    "population_mean = 2.5\n",
    "sample_std_dev = 0.3\n",
    "n = 10\n",
    "df = n - 1\n",
    "alpha = 0.05\n",
    "\n",
    "# Calculate t-statistic\n",
    "t_statistic = (sample_mean - population_mean) / (sample_std_dev / math.sqrt(n))\n",
    "\n",
    "# Get critical value for two-tailed test\n",
    "t_crit_two_tailed = stats.t.ppf(1 - alpha / 2, df)\n",
    "\n",
    "# Print t-statistic and critical value\n",
    "print(f\"T-statistic: {t_statistic:.4f}\")\n",
    "print(f\"Critical t (two-tailed): {t_crit_two_tailed:.4f}\")\n",
    "\n",
    "# Decision rule\n",
    "if abs(t_statistic) > t_crit_two_tailed:\n",
    "    print(\"Two-tailed test: Reject null hypothesis\")\n",
    "else:\n",
    "    print(\"Two-tailed test: Fail to reject null hypothesis\")\n"
   ]
  },
  {
   "cell_type": "code",
   "execution_count": null,
   "id": "7779ee6d-3fd7-4f9d-b061-5900620481ff",
   "metadata": {},
   "outputs": [],
   "source": []
  },
  {
   "cell_type": "code",
   "execution_count": 2,
   "id": "c67e9b40-eaa2-431c-a9fb-d7a64d097398",
   "metadata": {},
   "outputs": [
    {
     "name": "stdout",
     "output_type": "stream",
     "text": [
      "T-statistic: 2.6352\n",
      "Critical t (one-tailed): 1.8331\n",
      "One-tailed test: Reject null hypothesis\n"
     ]
    }
   ],
   "source": [
    "import math\n",
    "from scipy import stats\n",
    "\n",
    "# Given values\n",
    "sample_mean = 2.75\n",
    "population_mean = 2.5\n",
    "sample_std_dev = 0.3\n",
    "n = 10\n",
    "df = n - 1\n",
    "alpha = 0.05\n",
    "\n",
    "# Calculate t-statistic\n",
    "t_statistic = (sample_mean - population_mean) / (sample_std_dev / math.sqrt(n))\n",
    "\n",
    "# Get critical value for one-tailed test (right-tailed)\n",
    "t_crit_one_tailed = stats.t.ppf(1 - alpha, df)\n",
    "\n",
    "# Print t-statistic and critical value\n",
    "print(f\"T-statistic: {t_statistic:.4f}\")\n",
    "print(f\"Critical t (one-tailed): {t_crit_one_tailed:.4f}\")\n",
    "\n",
    "# Decision rule for right-tailed test\n",
    "if t_statistic > t_crit_one_tailed:\n",
    "    print(\"One-tailed test: Reject null hypothesis\")\n",
    "else:\n",
    "    print(\"One-tailed test: Fail to reject null hypothesis\")\n"
   ]
  },
  {
   "cell_type": "code",
   "execution_count": 3,
   "id": "c8bc92c0-d0a8-4f5d-80fa-a741006b7a53",
   "metadata": {},
   "outputs": [
    {
     "name": "stdout",
     "output_type": "stream",
     "text": [
      "T-statistic: 2.6352\n",
      "Critical t (one-tailed): -1.8331\n",
      "One-tailed test (mean <): Fail to reject null hypothesis\n"
     ]
    }
   ],
   "source": [
    "import math\n",
    "from scipy import stats\n",
    "\n",
    "# Given values\n",
    "sample_mean = 2.75\n",
    "population_mean = 2.5\n",
    "sample_std_dev = 0.3\n",
    "n = 10\n",
    "df = n - 1\n",
    "alpha = 0.05\n",
    "\n",
    "# Calculate t-statistic\n",
    "t_statistic = (sample_mean - population_mean) / (sample_std_dev / math.sqrt(n))\n",
    "\n",
    "# Critical value for one-tailed test (less than)\n",
    "t_crit_one_tailed = stats.t.ppf(alpha, df)\n",
    "\n",
    "# Print results\n",
    "print(f\"T-statistic: {t_statistic:.4f}\")\n",
    "print(f\"Critical t (one-tailed): {t_crit_one_tailed:.4f}\")\n",
    "\n",
    "# One-tailed test decision [less than]\n",
    "if t_statistic < t_crit_one_tailed:\n",
    "    print(\"One-tailed test (mean <): Reject null hypothesis\")\n",
    "else:\n",
    "    print(\"One-tailed test (mean <): Fail to reject null hypothesis\")\n"
   ]
  },
  {
   "cell_type": "code",
   "execution_count": null,
   "id": "43211a22-ccb9-4639-83c7-a40510ac48db",
   "metadata": {},
   "outputs": [],
   "source": []
  },
  {
   "cell_type": "code",
   "execution_count": null,
   "id": "450e1b00-0507-4e21-804c-8cd462dc8e91",
   "metadata": {},
   "outputs": [],
   "source": []
  },
  {
   "cell_type": "code",
   "execution_count": null,
   "id": "d8af219f-ebf1-47c4-a761-5705638c09cf",
   "metadata": {},
   "outputs": [],
   "source": []
  },
  {
   "cell_type": "code",
   "execution_count": 13,
   "id": "5f4540de-196b-4d1d-a11c-b7558e22723a",
   "metadata": {},
   "outputs": [
    {
     "name": "stdout",
     "output_type": "stream",
     "text": [
      "Sample mean: 69.375\n",
      "Sample std deviation: 2.669\n",
      "T-statistic: -0.6623\n",
      "Critical t (one-tailed): -1.8946\n",
      "One-tailed test (mean <): Fail to reject null hypothesis\n"
     ]
    }
   ],
   "source": [
    "import numpy as np\n",
    "from scipy import stats\n",
    "\n",
    "scores=[65,68,72,71,69,73,70,67]\n",
    "population_mean=70\n",
    "n=8\n",
    "df = len(scores) - 1\n",
    "alpha=0.05\n",
    "sample_mean = np.mean(scores)\n",
    "sample_std = np.std(scores, ddof=1)\n",
    "\n",
    "t_statistic = (sample_mean - population_mean) / (sample_std / np.sqrt(len(scores)))\n",
    "t_crit_one_tailed = stats.t.ppf(alpha, df)\n",
    "\n",
    "print(f\"Sample mean: {np.mean(scores):.3f}\")\n",
    "print(f\"Sample std deviation: {np.std(scores, ddof=1):.3f}\")\n",
    "print(f\"T-statistic: {t_statistic:.4f}\")\n",
    "print(f\"Critical t (one-tailed): {t_crit_one_tailed:.4f}\")\n",
    "\n",
    "if t_statistic < t_crit_one_tailed:\n",
    "    print(\"One-tailed test (mean <): Reject null hypothesis\")\n",
    "else:\n",
    "    print(\"One-tailed test (mean <): Fail to reject null hypothesis\")\n"
   ]
  },
  {
   "cell_type": "code",
   "execution_count": null,
   "id": "a6c16498-5785-4d0f-83bd-65a710e859db",
   "metadata": {},
   "outputs": [],
   "source": []
  }
 ],
 "metadata": {
  "kernelspec": {
   "display_name": "Python 3 (ipykernel)",
   "language": "python",
   "name": "python3"
  },
  "language_info": {
   "codemirror_mode": {
    "name": "ipython",
    "version": 3
   },
   "file_extension": ".py",
   "mimetype": "text/x-python",
   "name": "python",
   "nbconvert_exporter": "python",
   "pygments_lexer": "ipython3",
   "version": "3.12.4"
  }
 },
 "nbformat": 4,
 "nbformat_minor": 5
}
